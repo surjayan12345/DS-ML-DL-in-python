{
  "nbformat": 4,
  "nbformat_minor": 0,
  "metadata": {
    "kernelspec": {
      "display_name": "Python 3",
      "language": "python",
      "name": "python3"
    },
    "language_info": {
      "codemirror_mode": {
        "name": "ipython",
        "version": 3
      },
      "file_extension": ".py",
      "mimetype": "text/x-python",
      "name": "python",
      "nbconvert_exporter": "python",
      "pygments_lexer": "ipython3",
      "version": "3.8.3"
    },
    "colab": {
      "name": "Set_Dictionary.ipynb",
      "provenance": []
    }
  },
  "cells": [
    {
      "cell_type": "markdown",
      "metadata": {
        "id": "YyumD7XUhtD2"
      },
      "source": [
        "<h1 style=\"text-align: center; font-size: 36px;\">Set & Dictionary</h1>"
      ]
    },
    {
      "cell_type": "markdown",
      "metadata": {
        "id": "I1J-adkohtD5"
      },
      "source": [
        "## Set\n",
        "Sets are unordered collections of unique objects. Set is also unindexed. Sets are written with curly brackets `{}`."
      ]
    },
    {
      "cell_type": "markdown",
      "metadata": {
        "id": "Dtz-4K-shtD6"
      },
      "source": [
        "**Creating a Set**"
      ]
    },
    {
      "cell_type": "code",
      "metadata": {
        "id": "4rDDkVEvhtD6",
        "outputId": "2f55a75d-1475-4fdf-93d1-28e7d858a59e"
      },
      "source": [
        "set_a = {1, 2, 3, 4, 5}\n",
        "print(set_a)\n",
        "type(set_a)"
      ],
      "execution_count": null,
      "outputs": [
        {
          "name": "stdout",
          "output_type": "stream",
          "text": [
            "{1, 2, 3, 4, 5}\n"
          ]
        },
        {
          "data": {
            "text/plain": [
              "set"
            ]
          },
          "execution_count": 1,
          "metadata": {},
          "output_type": "execute_result"
        }
      ]
    },
    {
      "cell_type": "code",
      "metadata": {
        "id": "L3QsERpwhtD7",
        "outputId": "678b79e2-0236-4717-ecfb-d9e80d63d19e"
      },
      "source": [
        "# Sets can contain all types of hashable data\n",
        "set_b = {10, 3.14, \"hello\", print}\n",
        "print(set_b)"
      ],
      "execution_count": null,
      "outputs": [
        {
          "name": "stdout",
          "output_type": "stream",
          "text": [
            "{10, 3.14, <built-in function print>, 'hello'}\n"
          ]
        }
      ]
    },
    {
      "cell_type": "markdown",
      "metadata": {
        "id": "MlHbrbxEhtD8"
      },
      "source": [
        "List and any other unhashable data cannot be part of set."
      ]
    },
    {
      "cell_type": "code",
      "metadata": {
        "id": "N_7NIYdXhtD9",
        "outputId": "0e8594ce-e41d-45a7-f5f0-d0a23c62cdbc",
        "colab": {
          "base_uri": "https://localhost:8080/",
          "height": 162
        }
      },
      "source": [
        "set_c = {10, 20, [30, 40]} # List is not hashable"
      ],
      "execution_count": 1,
      "outputs": [
        {
          "output_type": "error",
          "ename": "TypeError",
          "evalue": "ignored",
          "traceback": [
            "\u001b[0;31m---------------------------------------------------------------------------\u001b[0m",
            "\u001b[0;31mTypeError\u001b[0m                                 Traceback (most recent call last)",
            "\u001b[0;32m<ipython-input-1-1f30f21e72e3>\u001b[0m in \u001b[0;36m<module>\u001b[0;34m()\u001b[0m\n\u001b[0;32m----> 1\u001b[0;31m \u001b[0mset_c\u001b[0m \u001b[0;34m=\u001b[0m \u001b[0;34m{\u001b[0m\u001b[0;36m10\u001b[0m\u001b[0;34m,\u001b[0m \u001b[0;36m20\u001b[0m\u001b[0;34m,\u001b[0m \u001b[0;34m[\u001b[0m\u001b[0;36m30\u001b[0m\u001b[0;34m,\u001b[0m \u001b[0;36m40\u001b[0m\u001b[0;34m]\u001b[0m\u001b[0;34m}\u001b[0m \u001b[0;31m# List is not hashable\u001b[0m\u001b[0;34m\u001b[0m\u001b[0;34m\u001b[0m\u001b[0m\n\u001b[0m",
            "\u001b[0;31mTypeError\u001b[0m: unhashable type: 'list'"
          ]
        }
      ]
    },
    {
      "cell_type": "code",
      "metadata": {
        "id": "cOhJTh5hhtD9"
      },
      "source": [
        "set_c = {10, 20, (30, 40)} # Tuple is hashable"
      ],
      "execution_count": 2,
      "outputs": []
    },
    {
      "cell_type": "code",
      "metadata": {
        "id": "cznbvy1yhtD-",
        "outputId": "52a9cc2d-7355-49c6-ebef-89f1c714a5d8",
        "colab": {
          "base_uri": "https://localhost:8080/",
          "height": 162
        }
      },
      "source": [
        "set_c = {10, 20, {30, 40}} # Set itself cannot be a member of another set"
      ],
      "execution_count": 3,
      "outputs": [
        {
          "output_type": "error",
          "ename": "TypeError",
          "evalue": "ignored",
          "traceback": [
            "\u001b[0;31m---------------------------------------------------------------------------\u001b[0m",
            "\u001b[0;31mTypeError\u001b[0m                                 Traceback (most recent call last)",
            "\u001b[0;32m<ipython-input-3-9f45e06b826b>\u001b[0m in \u001b[0;36m<module>\u001b[0;34m()\u001b[0m\n\u001b[0;32m----> 1\u001b[0;31m \u001b[0mset_c\u001b[0m \u001b[0;34m=\u001b[0m \u001b[0;34m{\u001b[0m\u001b[0;36m10\u001b[0m\u001b[0;34m,\u001b[0m \u001b[0;36m20\u001b[0m\u001b[0;34m,\u001b[0m \u001b[0;34m{\u001b[0m\u001b[0;36m30\u001b[0m\u001b[0;34m,\u001b[0m \u001b[0;36m40\u001b[0m\u001b[0;34m}\u001b[0m\u001b[0;34m}\u001b[0m \u001b[0;31m# Set itself cannot be a member of another set\u001b[0m\u001b[0;34m\u001b[0m\u001b[0;34m\u001b[0m\u001b[0m\n\u001b[0m",
            "\u001b[0;31mTypeError\u001b[0m: unhashable type: 'set'"
          ]
        }
      ]
    },
    {
      "cell_type": "markdown",
      "metadata": {
        "id": "8vuvJCInhtD-"
      },
      "source": [
        "**Length of a Set**"
      ]
    },
    {
      "cell_type": "code",
      "metadata": {
        "id": "fjc7WGWbhtD_",
        "outputId": "33caf274-cf86-4751-d524-c986615a8df2"
      },
      "source": [
        "len(set_a)"
      ],
      "execution_count": null,
      "outputs": [
        {
          "data": {
            "text/plain": [
              "5"
            ]
          },
          "execution_count": 6,
          "metadata": {},
          "output_type": "execute_result"
        }
      ]
    },
    {
      "cell_type": "markdown",
      "metadata": {
        "id": "3Ntow4Z1htD_"
      },
      "source": [
        "**Unordered**\n",
        "\n",
        "Unordered means that the elements of a set do not have ay particular order. Every time you use it or print it, the elements may be in different order."
      ]
    },
    {
      "cell_type": "code",
      "metadata": {
        "id": "Mq_HvBpKhtEA",
        "outputId": "d158c128-4022-4754-8f1d-5a5613a620e3"
      },
      "source": [
        "print({10, 20}.union({30, 40}))\n",
        "# You will learn about union later, basically we are adding the sets"
      ],
      "execution_count": null,
      "outputs": [
        {
          "name": "stdout",
          "output_type": "stream",
          "text": [
            "{40, 10, 20, 30}\n"
          ]
        }
      ]
    },
    {
      "cell_type": "markdown",
      "metadata": {
        "id": "QnrDHUnmhtEA"
      },
      "source": [
        "**Unindexed**\n",
        "\n",
        "Elements do not have any index as they are unordered. So you cannot use indexing or slicing. You can still use loops to access them."
      ]
    },
    {
      "cell_type": "code",
      "metadata": {
        "id": "4dY99caChtEA",
        "outputId": "c3abdb1d-513b-469c-ab2a-ac39aa9d977e"
      },
      "source": [
        "set_a[1]"
      ],
      "execution_count": null,
      "outputs": [
        {
          "ename": "TypeError",
          "evalue": "'set' object is not subscriptable",
          "output_type": "error",
          "traceback": [
            "\u001b[1;31m---------------------------------------------------------------------------\u001b[0m",
            "\u001b[1;31mTypeError\u001b[0m                                 Traceback (most recent call last)",
            "\u001b[1;32m<ipython-input-8-3a3e0dde29a5>\u001b[0m in \u001b[0;36m<module>\u001b[1;34m\u001b[0m\n\u001b[1;32m----> 1\u001b[1;33m \u001b[0mset_a\u001b[0m\u001b[1;33m[\u001b[0m\u001b[1;36m1\u001b[0m\u001b[1;33m]\u001b[0m\u001b[1;33m\u001b[0m\u001b[1;33m\u001b[0m\u001b[0m\n\u001b[0m",
            "\u001b[1;31mTypeError\u001b[0m: 'set' object is not subscriptable"
          ]
        }
      ]
    },
    {
      "cell_type": "markdown",
      "metadata": {
        "id": "Ygx_d-sqhtEB"
      },
      "source": [
        "**Unique**\n",
        "\n",
        "All elements of a set should be unique. So you cannot have duplicate elements in the set."
      ]
    },
    {
      "cell_type": "code",
      "metadata": {
        "id": "Wwy1c8lwhtEB",
        "outputId": "8dc36b78-84c9-4d74-fde0-9d95c2c3bee3",
        "colab": {
          "base_uri": "https://localhost:8080/"
        }
      },
      "source": [
        "set_c = {10, 20, 10, 30, 40, 20, 10, 50}\n",
        "print(set_c)"
      ],
      "execution_count": 6,
      "outputs": [
        {
          "output_type": "stream",
          "name": "stdout",
          "text": [
            "{40, 10, 50, 20, 30}\n"
          ]
        }
      ]
    },
    {
      "cell_type": "markdown",
      "metadata": {
        "id": "6DtDxuJ4htEB"
      },
      "source": [
        "**Convert to Set**\n",
        "\n",
        "You can convert other iterable data types to set using `set()`."
      ]
    },
    {
      "cell_type": "code",
      "metadata": {
        "id": "X2-W8YoLhtEB",
        "outputId": "ca870498-8276-4c71-c630-809a81615d8f"
      },
      "source": [
        "set((10, 20, 30, 20))"
      ],
      "execution_count": null,
      "outputs": [
        {
          "data": {
            "text/plain": [
              "{10, 20, 30}"
            ]
          },
          "execution_count": 10,
          "metadata": {},
          "output_type": "execute_result"
        }
      ]
    },
    {
      "cell_type": "code",
      "metadata": {
        "id": "M3ImFfMChtEC",
        "outputId": "2fe72093-0868-4067-ddc8-39b0f486bf8b"
      },
      "source": [
        "set([10, 20, 30, 20])"
      ],
      "execution_count": null,
      "outputs": [
        {
          "data": {
            "text/plain": [
              "{10, 20, 30}"
            ]
          },
          "execution_count": 11,
          "metadata": {},
          "output_type": "execute_result"
        }
      ]
    },
    {
      "cell_type": "code",
      "metadata": {
        "id": "fY63l8lfhtEC",
        "outputId": "a8b54deb-f1a0-4105-fc3f-9f412b3fe2d1",
        "colab": {
          "base_uri": "https://localhost:8080/"
        }
      },
      "source": [
        "set(\"hello\")"
      ],
      "execution_count": 7,
      "outputs": [
        {
          "output_type": "execute_result",
          "data": {
            "text/plain": [
              "{'e', 'h', 'l', 'o'}"
            ]
          },
          "metadata": {},
          "execution_count": 7
        }
      ]
    },
    {
      "cell_type": "markdown",
      "metadata": {
        "id": "_PP_w8pohtEC"
      },
      "source": [
        "**Add Elements**"
      ]
    },
    {
      "cell_type": "code",
      "metadata": {
        "id": "u5zeoKuQhtEC",
        "outputId": "60ae28c1-440f-4c39-f448-b406ffa78cc3"
      },
      "source": [
        "set_d = {10, 20, 30}\n",
        "print(set_d)"
      ],
      "execution_count": null,
      "outputs": [
        {
          "name": "stdout",
          "output_type": "stream",
          "text": [
            "{10, 20, 30}\n"
          ]
        }
      ]
    },
    {
      "cell_type": "code",
      "metadata": {
        "id": "SASTPrT_htED",
        "outputId": "de246717-656f-45e5-f137-43a233a927ed"
      },
      "source": [
        "# Add single elements using .add()\n",
        "set_d.add(40)\n",
        "print(set_d)"
      ],
      "execution_count": null,
      "outputs": [
        {
          "name": "stdout",
          "output_type": "stream",
          "text": [
            "{40, 10, 20, 30}\n"
          ]
        }
      ]
    },
    {
      "cell_type": "code",
      "metadata": {
        "id": "JJVZZbeqhtED",
        "outputId": "5f047e21-54ad-454a-f9ee-c77123042589"
      },
      "source": [
        "# Add multiple elements using .update()\n",
        "set_d.update({50, 60})\n",
        "print(set_d)"
      ],
      "execution_count": null,
      "outputs": [
        {
          "name": "stdout",
          "output_type": "stream",
          "text": [
            "{50, 20, 40, 10, 60, 30}\n"
          ]
        }
      ]
    },
    {
      "cell_type": "code",
      "metadata": {
        "id": "43pMwstqhtED",
        "outputId": "479addab-e8b6-4b60-952b-4fa7b33bed00"
      },
      "source": [
        "# You can use other iterable data types\n",
        "set_d.update([40, 15, 70, 80])\n",
        "print(set_d)"
      ],
      "execution_count": null,
      "outputs": [
        {
          "name": "stdout",
          "output_type": "stream",
          "text": [
            "{70, 10, 15, 80, 20, 30, 40, 50, 60}\n"
          ]
        }
      ]
    },
    {
      "cell_type": "markdown",
      "metadata": {
        "id": "ssSWlUyghtEE"
      },
      "source": [
        "**Remove Elements**"
      ]
    },
    {
      "cell_type": "code",
      "metadata": {
        "id": "hkcitx94htEE",
        "outputId": "e7dbac95-cf9d-4825-f40b-7dffca8e0673"
      },
      "source": [
        "# You can remove a single element using .remove()\n",
        "set_d.remove(15)\n",
        "print(set_d)"
      ],
      "execution_count": null,
      "outputs": [
        {
          "name": "stdout",
          "output_type": "stream",
          "text": [
            "{70, 10, 80, 20, 30, 40, 50, 60}\n"
          ]
        }
      ]
    },
    {
      "cell_type": "code",
      "metadata": {
        "id": "R7fCnEUihtEE",
        "outputId": "b2ec56c4-d76f-46b6-f665-5755968d5b53"
      },
      "source": [
        "# .remove() will cause an error if the element doesn't exist\n",
        "set_d.remove(9) # KeyError\n",
        "print(set_d)"
      ],
      "execution_count": null,
      "outputs": [
        {
          "ename": "KeyError",
          "evalue": "9",
          "output_type": "error",
          "traceback": [
            "\u001b[1;31m---------------------------------------------------------------------------\u001b[0m",
            "\u001b[1;31mKeyError\u001b[0m                                  Traceback (most recent call last)",
            "\u001b[1;32m<ipython-input-23-1c57c0b132db>\u001b[0m in \u001b[0;36m<module>\u001b[1;34m\u001b[0m\n\u001b[0;32m      1\u001b[0m \u001b[1;31m# .remove() will cause an error if the element doesn't exist\u001b[0m\u001b[1;33m\u001b[0m\u001b[1;33m\u001b[0m\u001b[1;33m\u001b[0m\u001b[0m\n\u001b[1;32m----> 2\u001b[1;33m \u001b[0mset_d\u001b[0m\u001b[1;33m.\u001b[0m\u001b[0mremove\u001b[0m\u001b[1;33m(\u001b[0m\u001b[1;36m9\u001b[0m\u001b[1;33m)\u001b[0m \u001b[1;31m# KeyError\u001b[0m\u001b[1;33m\u001b[0m\u001b[1;33m\u001b[0m\u001b[0m\n\u001b[0m\u001b[0;32m      3\u001b[0m \u001b[0mprint\u001b[0m\u001b[1;33m(\u001b[0m\u001b[0mset_d\u001b[0m\u001b[1;33m)\u001b[0m\u001b[1;33m\u001b[0m\u001b[1;33m\u001b[0m\u001b[0m\n",
            "\u001b[1;31mKeyError\u001b[0m: 9"
          ]
        }
      ]
    },
    {
      "cell_type": "code",
      "metadata": {
        "id": "otIgLq6ThtEE",
        "outputId": "0bead22f-47f8-4e36-e668-85f72580d87e"
      },
      "source": [
        "# You can remove a single element using .discard() as well\n",
        "set_d.discard(10)\n",
        "print(set_d)"
      ],
      "execution_count": null,
      "outputs": [
        {
          "name": "stdout",
          "output_type": "stream",
          "text": [
            "{70, 80, 20, 30, 40, 50, 60}\n"
          ]
        }
      ]
    },
    {
      "cell_type": "code",
      "metadata": {
        "id": "TZL3nWhfhtEE",
        "outputId": "82df24d9-1e81-46ec-d406-970805e1d3d6"
      },
      "source": [
        "# .discard() will not cause an error if the element doesn't exist\n",
        "set_d.discard(5) # No error\n",
        "print(set_d)"
      ],
      "execution_count": null,
      "outputs": [
        {
          "name": "stdout",
          "output_type": "stream",
          "text": [
            "{70, 80, 20, 30, 40, 50, 60}\n"
          ]
        }
      ]
    },
    {
      "cell_type": "code",
      "metadata": {
        "id": "WvmDc6QchtEF",
        "outputId": "310c2187-43c1-47b5-d48e-b0f828e34d15"
      },
      "source": [
        "# .pop() will remove a random element from the set (it will try to remove first)\n",
        "print(set_d.pop())\n",
        "print(set_d)"
      ],
      "execution_count": null,
      "outputs": [
        {
          "name": "stdout",
          "output_type": "stream",
          "text": [
            "70\n",
            "{80, 20, 30, 40, 50, 60}\n"
          ]
        }
      ]
    },
    {
      "cell_type": "code",
      "metadata": {
        "id": "FejebFX1htEF",
        "outputId": "ad5ce649-1cca-4443-bf07-4f392556767d"
      },
      "source": [
        "# .clear() will remove all elements from the set\n",
        "set_d.clear()\n",
        "print(set_d)"
      ],
      "execution_count": null,
      "outputs": [
        {
          "name": "stdout",
          "output_type": "stream",
          "text": [
            "set()\n"
          ]
        }
      ]
    },
    {
      "cell_type": "markdown",
      "metadata": {
        "id": "-tInfe3WhtEF"
      },
      "source": [
        "In Python, curly brackets is used to for both set and dictionary. However, for empty set and empty dictionary, we cannot use the same syntax. So, empty dictionary is written as `{}` and empty set is written as `set()`."
      ]
    },
    {
      "cell_type": "markdown",
      "metadata": {
        "id": "4ty1YiwYhtEF"
      },
      "source": [
        "**Union**\n",
        "\n",
        "`set_a.union(set_b)` returns a new set with all the elements present in either `set_a` or `set_b`."
      ]
    },
    {
      "cell_type": "code",
      "metadata": {
        "id": "DOmLXBmbhtEF",
        "outputId": "48ff29eb-9a8d-4f0a-806c-8025d02d964d"
      },
      "source": [
        "{10, 20, 30}.union({30, 40, 50})"
      ],
      "execution_count": null,
      "outputs": [
        {
          "data": {
            "text/plain": [
              "{10, 20, 30, 40, 50}"
            ]
          },
          "execution_count": 28,
          "metadata": {},
          "output_type": "execute_result"
        }
      ]
    },
    {
      "cell_type": "markdown",
      "metadata": {
        "id": "eEnoumIthtEG"
      },
      "source": [
        "Keep in mind that `.union()` will not update the original set. If you want to update it, just use `.update()`."
      ]
    },
    {
      "cell_type": "markdown",
      "metadata": {
        "id": "PJ4R6c24htEG"
      },
      "source": [
        "**Intersection**\n",
        "\n",
        "`set_a.intersection(set_b)` returns a new set with only those elements present in both `set_a` and `set_b`."
      ]
    },
    {
      "cell_type": "code",
      "metadata": {
        "id": "gfYH48MphtEG",
        "outputId": "27fef3e6-d9cc-49e8-9f8c-4f321629826d"
      },
      "source": [
        "{10, 20, 30, 40}.intersection({30, 40, 50, 60})"
      ],
      "execution_count": null,
      "outputs": [
        {
          "data": {
            "text/plain": [
              "{30, 40}"
            ]
          },
          "execution_count": 29,
          "metadata": {},
          "output_type": "execute_result"
        }
      ]
    },
    {
      "cell_type": "markdown",
      "metadata": {
        "id": "pUmqLhm0htEG"
      },
      "source": [
        "Keep in mind that `.intersection()` will not update the original set. If you want to update it, you can use `.intersection_update()`."
      ]
    },
    {
      "cell_type": "code",
      "metadata": {
        "id": "1K4DeWOXhtEG",
        "outputId": "2d1908c8-af32-4031-90b3-da916aec2cfc"
      },
      "source": [
        "set_e = {10, 20, 30, 40}\n",
        "set_e.intersection_update({30, 40, 50, 60})\n",
        "print(set_e)"
      ],
      "execution_count": null,
      "outputs": [
        {
          "name": "stdout",
          "output_type": "stream",
          "text": [
            "{40, 30}\n"
          ]
        }
      ]
    },
    {
      "cell_type": "markdown",
      "metadata": {
        "id": "SZfaUV3vhtEH"
      },
      "source": [
        "**Difference**"
      ]
    },
    {
      "cell_type": "markdown",
      "metadata": {
        "id": "hcNJCe0MhtEH"
      },
      "source": [
        "`set_a.difference(set_b)` returns a new set with only those elements present in `set_a` but not in `set_b`."
      ]
    },
    {
      "cell_type": "code",
      "metadata": {
        "id": "u4-noVGEhtEH",
        "outputId": "52088715-3505-4653-cfc7-12d44432eb4b"
      },
      "source": [
        "{10, 20, 30, 40}.difference({30, 40, 50, 60})"
      ],
      "execution_count": null,
      "outputs": [
        {
          "data": {
            "text/plain": [
              "{10, 20}"
            ]
          },
          "execution_count": 31,
          "metadata": {},
          "output_type": "execute_result"
        }
      ]
    },
    {
      "cell_type": "markdown",
      "metadata": {
        "id": "kyV_NAzhhtEH"
      },
      "source": [
        "Keep in mind that `.difference()` will not update the original set. If you want to update it, you can use `.difference_update()`."
      ]
    },
    {
      "cell_type": "code",
      "metadata": {
        "id": "G_ebPHwbhtEH",
        "outputId": "13e6c1de-c59f-413c-f45c-aa93f35b42ad"
      },
      "source": [
        "set_e = {10, 20, 30, 40}\n",
        "set_e.difference_update({30, 40, 50, 60})\n",
        "print(set_e)"
      ],
      "execution_count": null,
      "outputs": [
        {
          "name": "stdout",
          "output_type": "stream",
          "text": [
            "{20, 10}\n"
          ]
        }
      ]
    },
    {
      "cell_type": "markdown",
      "metadata": {
        "id": "ckeUkY3HhtEH"
      },
      "source": [
        "**Symmetric Difference**"
      ]
    },
    {
      "cell_type": "markdown",
      "metadata": {
        "id": "wQy4y6qNhtEH"
      },
      "source": [
        "`set_a.symmetric_difference(set_b)` returns a new set with those elements present in either `set_a` or `set_b`, but not in both."
      ]
    },
    {
      "cell_type": "code",
      "metadata": {
        "id": "tfLxH0nGhtEH",
        "outputId": "f575f7a6-f3d4-4d4d-a114-b15059622234"
      },
      "source": [
        "{10, 20, 30, 40}.symmetric_difference({30, 40, 50, 60})"
      ],
      "execution_count": null,
      "outputs": [
        {
          "data": {
            "text/plain": [
              "{10, 20, 50, 60}"
            ]
          },
          "execution_count": 33,
          "metadata": {},
          "output_type": "execute_result"
        }
      ]
    },
    {
      "cell_type": "markdown",
      "metadata": {
        "id": "Mxvc2grshtEI"
      },
      "source": [
        "Keep in mind that `.symmetric_difference()` will not update the original set. If you want to update it, you can use `.symmetric_difference_update()`."
      ]
    },
    {
      "cell_type": "code",
      "metadata": {
        "id": "pQkXco8khtEI",
        "outputId": "7b89f90b-f757-4bfe-e30e-0e1e06e10d17"
      },
      "source": [
        "set_e = {10, 20, 30, 40}\n",
        "set_e.symmetric_difference_update({30, 40, 50, 60})\n",
        "print(set_e)"
      ],
      "execution_count": null,
      "outputs": [
        {
          "name": "stdout",
          "output_type": "stream",
          "text": [
            "{10, 50, 20, 60}\n"
          ]
        }
      ]
    },
    {
      "cell_type": "markdown",
      "metadata": {
        "id": "qjXBWy3KhtEI"
      },
      "source": [
        "**Subset & Superset**\n",
        "\n",
        "You can use `set_a.issubset(set_b)` to check whether every element of `set_a` is present in `set_b`."
      ]
    },
    {
      "cell_type": "code",
      "metadata": {
        "id": "6ECEwq9OhtEI",
        "outputId": "89038abc-f91f-4fb8-d5d9-01cd36bd0e93"
      },
      "source": [
        "{30, 40}.issubset({10, 20, 30, 40})"
      ],
      "execution_count": null,
      "outputs": [
        {
          "data": {
            "text/plain": [
              "True"
            ]
          },
          "execution_count": 35,
          "metadata": {},
          "output_type": "execute_result"
        }
      ]
    },
    {
      "cell_type": "markdown",
      "metadata": {
        "id": "cwYcPOg8htEI"
      },
      "source": [
        "You can use `set_a.issuperset(set_b)` to check whether `set_a` contains every element of `set_b`."
      ]
    },
    {
      "cell_type": "code",
      "metadata": {
        "id": "oAIoelsGhtEI",
        "outputId": "27fac652-8145-4a81-d9e3-dbd1e79bcefc"
      },
      "source": [
        "{10, 20, 30, 40}.issuperset({30, 40})"
      ],
      "execution_count": null,
      "outputs": [
        {
          "data": {
            "text/plain": [
              "True"
            ]
          },
          "execution_count": 36,
          "metadata": {},
          "output_type": "execute_result"
        }
      ]
    },
    {
      "cell_type": "markdown",
      "metadata": {
        "id": "zY9a8WXGhtEI"
      },
      "source": [
        "**Disjoint**\n",
        "\n",
        "You can use `set_a.isdisjoint(set_b)` to check whether `set_a` and `set_b` doesn't contain any common elements."
      ]
    },
    {
      "cell_type": "code",
      "metadata": {
        "id": "tajd7neThtEJ",
        "outputId": "42337408-c7e7-4b67-fa02-14aeba902ee7"
      },
      "source": [
        "{10, 20}.isdisjoint({30, 40})"
      ],
      "execution_count": null,
      "outputs": [
        {
          "data": {
            "text/plain": [
              "True"
            ]
          },
          "execution_count": 37,
          "metadata": {},
          "output_type": "execute_result"
        }
      ]
    },
    {
      "cell_type": "markdown",
      "metadata": {
        "id": "Za5SAulvhtEJ"
      },
      "source": [
        "**Search in Set**"
      ]
    },
    {
      "cell_type": "code",
      "metadata": {
        "id": "rUCY0MjyhtEJ",
        "outputId": "9a0d2230-28ad-47ef-f6f5-7352895ad81f"
      },
      "source": [
        "10 in {10, 20, 30}"
      ],
      "execution_count": null,
      "outputs": [
        {
          "data": {
            "text/plain": [
              "True"
            ]
          },
          "execution_count": 38,
          "metadata": {},
          "output_type": "execute_result"
        }
      ]
    },
    {
      "cell_type": "code",
      "metadata": {
        "id": "xbkap7_MhtEJ",
        "outputId": "48314b7f-aeb7-42aa-8a86-18a602d77bdf"
      },
      "source": [
        "20 not in {10, 30, 40}"
      ],
      "execution_count": null,
      "outputs": [
        {
          "data": {
            "text/plain": [
              "True"
            ]
          },
          "execution_count": 39,
          "metadata": {},
          "output_type": "execute_result"
        }
      ]
    },
    {
      "cell_type": "markdown",
      "metadata": {
        "id": "KaOYEltzhtEJ"
      },
      "source": [
        "## Dictionary"
      ]
    },
    {
      "cell_type": "markdown",
      "metadata": {
        "id": "IAznYx65htEJ"
      },
      "source": [
        "Dictionary in Python is used to store data in the form of `key: value` pairs. Dictionaries allow to store and retrieve data using keys. The part before the colon `:` is the key and the part after the colon is the value. These key value pairs separated by a comma make up a dictionary. Dictionaries are unindexed (they do not have a numerical index like list or tuple), unordered and mutable. **Dictionaries cannot have duplicate keys, though they can have duplicate values.**"
      ]
    },
    {
      "cell_type": "markdown",
      "metadata": {
        "id": "yDs4bLiahtEJ"
      },
      "source": [
        "**Creating a Dictionary**"
      ]
    },
    {
      "cell_type": "code",
      "metadata": {
        "id": "NTVMYSU_htEK"
      },
      "source": [
        "marks = {\"John\": 80, \"Arthur\": 75, \"Jake\": 85}\n",
        "\n",
        "# Can be written as follows\n",
        "marks = {\n",
        "    \"John\": 80,\n",
        "    \"Arthur\": 75,\n",
        "    \"Jake\": 85\n",
        "}"
      ],
      "execution_count": null,
      "outputs": []
    },
    {
      "cell_type": "code",
      "metadata": {
        "id": "byZl8-8hhtEK",
        "outputId": "cb600cde-bb7b-40ce-957c-e6f4962f6022"
      },
      "source": [
        "marks = {\n",
        "    \"John\": 80,\n",
        "    \"Arthur\": 75,\n",
        "    \"Jake\": 85,\n",
        "    \"John\": 90 # This \"John\" overwrites the previous one\n",
        "}\n",
        "print(marks)\n",
        "type(marks)"
      ],
      "execution_count": null,
      "outputs": [
        {
          "name": "stdout",
          "output_type": "stream",
          "text": [
            "{'John': 90, 'Arthur': 75, 'Jake': 85}\n"
          ]
        },
        {
          "data": {
            "text/plain": [
              "dict"
            ]
          },
          "execution_count": 41,
          "metadata": {},
          "output_type": "execute_result"
        }
      ]
    },
    {
      "cell_type": "markdown",
      "metadata": {
        "id": "gcN51ZHphtEK"
      },
      "source": [
        "Here, you can see the initial value of `\"John\": 80` was replaced by `\"John\": 90` since dictionary cannot contain duplicate keys."
      ]
    },
    {
      "cell_type": "markdown",
      "metadata": {
        "id": "HdoadAYThtEK"
      },
      "source": [
        "**Length**"
      ]
    },
    {
      "cell_type": "code",
      "metadata": {
        "id": "fDOecxu5htEK",
        "outputId": "85adb036-5882-4df7-e7ca-092cd3ee497d"
      },
      "source": [
        "len(marks)"
      ],
      "execution_count": null,
      "outputs": [
        {
          "data": {
            "text/plain": [
              "3"
            ]
          },
          "execution_count": 42,
          "metadata": {},
          "output_type": "execute_result"
        }
      ]
    },
    {
      "cell_type": "markdown",
      "metadata": {
        "id": "ESY051prhtEK"
      },
      "source": [
        "**Access Values Using Keys**"
      ]
    },
    {
      "cell_type": "code",
      "metadata": {
        "id": "1qU_U8j1htEK",
        "outputId": "42d1735a-0df3-4e8f-8e68-01df8b992081"
      },
      "source": [
        "marks[\"John\"] # Get the marks of \"John\""
      ],
      "execution_count": null,
      "outputs": [
        {
          "data": {
            "text/plain": [
              "90"
            ]
          },
          "execution_count": 43,
          "metadata": {},
          "output_type": "execute_result"
        }
      ]
    },
    {
      "cell_type": "code",
      "metadata": {
        "id": "bODEomS4htEK",
        "outputId": "5d11d319-0f62-4ae6-a1e3-f021f289bbd7"
      },
      "source": [
        "marks[\"Jake\"]"
      ],
      "execution_count": null,
      "outputs": [
        {
          "data": {
            "text/plain": [
              "85"
            ]
          },
          "execution_count": 44,
          "metadata": {},
          "output_type": "execute_result"
        }
      ]
    },
    {
      "cell_type": "markdown",
      "metadata": {
        "id": "d7v0o8TLhtEL"
      },
      "source": [
        "If the key doesn't exist, you will get a `KeyError`."
      ]
    },
    {
      "cell_type": "code",
      "metadata": {
        "id": "YCoxdDHShtEL",
        "outputId": "1b49cd79-e588-4794-b961-cdb9531b2e54"
      },
      "source": [
        "marks[\"ABCD\"]"
      ],
      "execution_count": null,
      "outputs": [
        {
          "ename": "KeyError",
          "evalue": "'ABCD'",
          "output_type": "error",
          "traceback": [
            "\u001b[1;31m---------------------------------------------------------------------------\u001b[0m",
            "\u001b[1;31mKeyError\u001b[0m                                  Traceback (most recent call last)",
            "\u001b[1;32m<ipython-input-45-644dca98a8bf>\u001b[0m in \u001b[0;36m<module>\u001b[1;34m\u001b[0m\n\u001b[1;32m----> 1\u001b[1;33m \u001b[0mmarks\u001b[0m\u001b[1;33m[\u001b[0m\u001b[1;34m\"ABCD\"\u001b[0m\u001b[1;33m]\u001b[0m\u001b[1;33m\u001b[0m\u001b[1;33m\u001b[0m\u001b[0m\n\u001b[0m",
            "\u001b[1;31mKeyError\u001b[0m: 'ABCD'"
          ]
        }
      ]
    },
    {
      "cell_type": "markdown",
      "metadata": {
        "id": "PEbMxfZhhtEL"
      },
      "source": [
        "You can also access values using `.get(key)`."
      ]
    },
    {
      "cell_type": "code",
      "metadata": {
        "id": "8TKIZsKQhtEL",
        "outputId": "fd3a259d-2fe1-4a8c-9493-9435709a6a69"
      },
      "source": [
        "marks.get(\"Jake\")"
      ],
      "execution_count": null,
      "outputs": [
        {
          "data": {
            "text/plain": [
              "85"
            ]
          },
          "execution_count": 46,
          "metadata": {},
          "output_type": "execute_result"
        }
      ]
    },
    {
      "cell_type": "markdown",
      "metadata": {
        "id": "Wwv9cMjAhtEL"
      },
      "source": [
        "**Add new `key: value` pair & Change value**"
      ]
    },
    {
      "cell_type": "code",
      "metadata": {
        "id": "gzD_YvhzhtEN",
        "outputId": "32dd3f17-ce66-4ff9-db62-54cbc4c6b6ac"
      },
      "source": [
        "marks"
      ],
      "execution_count": null,
      "outputs": [
        {
          "data": {
            "text/plain": [
              "{'John': 90, 'Arthur': 75, 'Jake': 85}"
            ]
          },
          "execution_count": 47,
          "metadata": {},
          "output_type": "execute_result"
        }
      ]
    },
    {
      "cell_type": "code",
      "metadata": {
        "id": "-_XUSzPChtEN",
        "outputId": "d2dfbda0-9722-4761-fa81-38cdef40966b"
      },
      "source": [
        "marks[\"Dave\"] = 75\n",
        "print(marks)"
      ],
      "execution_count": null,
      "outputs": [
        {
          "name": "stdout",
          "output_type": "stream",
          "text": [
            "{'John': 90, 'Arthur': 75, 'Jake': 85, 'Dave': 75}\n"
          ]
        }
      ]
    },
    {
      "cell_type": "code",
      "metadata": {
        "id": "mCuu4FoihtEO",
        "outputId": "8d623654-1af1-451b-fc09-13c7f7269921"
      },
      "source": [
        "# If the key exists, the old value will be overwritten\n",
        "marks[\"John\"] = 70\n",
        "print(marks)"
      ],
      "execution_count": null,
      "outputs": [
        {
          "name": "stdout",
          "output_type": "stream",
          "text": [
            "{'John': 70, 'Arthur': 75, 'Jake': 85, 'Dave': 75}\n"
          ]
        }
      ]
    },
    {
      "cell_type": "markdown",
      "metadata": {
        "id": "ZJzri7wqhtEO"
      },
      "source": [
        "**Get all keys, values and items**"
      ]
    },
    {
      "cell_type": "code",
      "metadata": {
        "id": "VwGmUjA1htEO",
        "outputId": "d2252c04-6be6-43a9-a316-97167ea373a7"
      },
      "source": [
        "marks"
      ],
      "execution_count": null,
      "outputs": [
        {
          "data": {
            "text/plain": [
              "{'John': 70, 'Arthur': 75, 'Jake': 85, 'Dave': 75}"
            ]
          },
          "execution_count": 50,
          "metadata": {},
          "output_type": "execute_result"
        }
      ]
    },
    {
      "cell_type": "code",
      "metadata": {
        "id": "FTCIN-DehtEO",
        "outputId": "df691df3-18c5-44a0-a627-f64d722fffad"
      },
      "source": [
        "# List of all keys\n",
        "marks.keys()"
      ],
      "execution_count": null,
      "outputs": [
        {
          "data": {
            "text/plain": [
              "dict_keys(['John', 'Arthur', 'Jake', 'Dave'])"
            ]
          },
          "execution_count": 51,
          "metadata": {},
          "output_type": "execute_result"
        }
      ]
    },
    {
      "cell_type": "code",
      "metadata": {
        "id": "wP1NCxlEhtEP",
        "outputId": "c35d7ad3-bd93-4779-c46e-a3ccacfc1120"
      },
      "source": [
        "# List of all values\n",
        "marks.values()"
      ],
      "execution_count": null,
      "outputs": [
        {
          "data": {
            "text/plain": [
              "dict_values([70, 75, 85, 75])"
            ]
          },
          "execution_count": 52,
          "metadata": {},
          "output_type": "execute_result"
        }
      ]
    },
    {
      "cell_type": "code",
      "metadata": {
        "id": "QEMNg6MphtEP",
        "outputId": "2f5b5ffd-3d3f-441b-d681-3173118b3bd3"
      },
      "source": [
        "# List of (key, value) pair tuples\n",
        "marks.items()"
      ],
      "execution_count": null,
      "outputs": [
        {
          "data": {
            "text/plain": [
              "dict_items([('John', 70), ('Arthur', 75), ('Jake', 85), ('Dave', 75)])"
            ]
          },
          "execution_count": 53,
          "metadata": {},
          "output_type": "execute_result"
        }
      ]
    },
    {
      "cell_type": "markdown",
      "metadata": {
        "id": "Ii3R3ZokhtEQ"
      },
      "source": [
        "**Check if key present in dictionary**"
      ]
    },
    {
      "cell_type": "code",
      "metadata": {
        "id": "pvUHzG4fhtEQ",
        "outputId": "aed7f1e0-338b-4c71-8374-5b25335adc5b"
      },
      "source": [
        "marks"
      ],
      "execution_count": null,
      "outputs": [
        {
          "data": {
            "text/plain": [
              "{'John': 70, 'Arthur': 75, 'Jake': 85, 'Dave': 75}"
            ]
          },
          "execution_count": 54,
          "metadata": {},
          "output_type": "execute_result"
        }
      ]
    },
    {
      "cell_type": "code",
      "metadata": {
        "id": "y4WiOW1xhtEQ",
        "outputId": "cc5eafbc-1f5f-4192-bac0-9a4dab7f4623"
      },
      "source": [
        "\"John\" in marks"
      ],
      "execution_count": null,
      "outputs": [
        {
          "data": {
            "text/plain": [
              "True"
            ]
          },
          "execution_count": 55,
          "metadata": {},
          "output_type": "execute_result"
        }
      ]
    },
    {
      "cell_type": "code",
      "metadata": {
        "id": "EKFRCUNOhtER",
        "outputId": "5758d50a-ec0a-4425-8c99-96ba265d1e8c"
      },
      "source": [
        "\"ABCD\" in marks"
      ],
      "execution_count": null,
      "outputs": [
        {
          "data": {
            "text/plain": [
              "False"
            ]
          },
          "execution_count": 56,
          "metadata": {},
          "output_type": "execute_result"
        }
      ]
    },
    {
      "cell_type": "code",
      "metadata": {
        "id": "ABjZD_KdhtER",
        "outputId": "57c50202-7a83-4675-d7ff-eb6e54de9899"
      },
      "source": [
        "\"ABCD\" not in marks"
      ],
      "execution_count": null,
      "outputs": [
        {
          "data": {
            "text/plain": [
              "True"
            ]
          },
          "execution_count": 57,
          "metadata": {},
          "output_type": "execute_result"
        }
      ]
    },
    {
      "cell_type": "markdown",
      "metadata": {
        "id": "uJ0jphFehtES"
      },
      "source": [
        "**Update dictionary with another dictionary**"
      ]
    },
    {
      "cell_type": "code",
      "metadata": {
        "id": "uFkfXJyUhtES",
        "outputId": "dcbef23b-08c8-411d-9593-bab8e75dd343"
      },
      "source": [
        "marks"
      ],
      "execution_count": null,
      "outputs": [
        {
          "data": {
            "text/plain": [
              "{'John': 70, 'Arthur': 75, 'Jake': 85, 'Dave': 75}"
            ]
          },
          "execution_count": 58,
          "metadata": {},
          "output_type": "execute_result"
        }
      ]
    },
    {
      "cell_type": "code",
      "metadata": {
        "id": "Je_oLut1htES",
        "outputId": "51ddc1bf-473d-4f6d-a0ed-6f1426877f48"
      },
      "source": [
        "# Add new key value pairs and overwrite existing keys\n",
        "marks.update({'John': 90, 'Dave': 95, 'Henry': 68})\n",
        "print(marks)"
      ],
      "execution_count": null,
      "outputs": [
        {
          "name": "stdout",
          "output_type": "stream",
          "text": [
            "{'John': 90, 'Arthur': 75, 'Jake': 85, 'Dave': 95, 'Henry': 68}\n"
          ]
        }
      ]
    },
    {
      "cell_type": "markdown",
      "metadata": {
        "id": "mc1u0A0GhtET"
      },
      "source": [
        "**Remove key value pairs**"
      ]
    },
    {
      "cell_type": "code",
      "metadata": {
        "id": "MREgPhyuhtET",
        "outputId": "e01a439a-1068-41fa-e4d0-ba5236d0b8dd"
      },
      "source": [
        "# Remove key: value pair using corresponding key\n",
        "marks.pop(\"Henry\")"
      ],
      "execution_count": null,
      "outputs": [
        {
          "data": {
            "text/plain": [
              "68"
            ]
          },
          "execution_count": 60,
          "metadata": {},
          "output_type": "execute_result"
        }
      ]
    },
    {
      "cell_type": "code",
      "metadata": {
        "id": "dddtW9f5htET",
        "outputId": "f36dc338-e0f2-4c69-ab2c-e6dd99a563aa"
      },
      "source": [
        "marks"
      ],
      "execution_count": null,
      "outputs": [
        {
          "data": {
            "text/plain": [
              "{'John': 90, 'Arthur': 75, 'Jake': 85, 'Dave': 95}"
            ]
          },
          "execution_count": 61,
          "metadata": {},
          "output_type": "execute_result"
        }
      ]
    },
    {
      "cell_type": "code",
      "metadata": {
        "id": "QDcxonyVhtET",
        "outputId": "4321a20e-55eb-448b-d0ad-084023cf174e"
      },
      "source": [
        "# Remove most recently added key: value pair\n",
        "# In earlier version of Python 3, popitem() used to remove random key: value pair\n",
        "marks.popitem()"
      ],
      "execution_count": null,
      "outputs": [
        {
          "data": {
            "text/plain": [
              "('Dave', 95)"
            ]
          },
          "execution_count": 62,
          "metadata": {},
          "output_type": "execute_result"
        }
      ]
    },
    {
      "cell_type": "code",
      "metadata": {
        "id": "5LTO-MOWhtEU",
        "outputId": "b6ec1935-155b-4173-cf16-de84c2e08206"
      },
      "source": [
        "marks"
      ],
      "execution_count": null,
      "outputs": [
        {
          "data": {
            "text/plain": [
              "{'John': 90, 'Arthur': 75, 'Jake': 85}"
            ]
          },
          "execution_count": 63,
          "metadata": {},
          "output_type": "execute_result"
        }
      ]
    },
    {
      "cell_type": "markdown",
      "metadata": {
        "id": "uPGt3WOthtEU"
      },
      "source": [
        "**Copy**"
      ]
    },
    {
      "cell_type": "code",
      "metadata": {
        "id": "VoeckT-ehtEU",
        "outputId": "440a7b5f-1cf3-42f6-b6c2-7363c12e1c90"
      },
      "source": [
        "dict_a = {'A': 10, 'B': 20, 'C': 30}\n",
        "dict_b = dict_a\n",
        "dict_b['A'] = 100\n",
        "print(dict_a, dict_b) # dict_a changed even though we altered dict_b"
      ],
      "execution_count": null,
      "outputs": [
        {
          "name": "stdout",
          "output_type": "stream",
          "text": [
            "{'A': 100, 'B': 20, 'C': 30} {'A': 100, 'B': 20, 'C': 30}\n"
          ]
        }
      ]
    },
    {
      "cell_type": "code",
      "metadata": {
        "id": "cgStuiREhtEU",
        "outputId": "73f3b96b-8973-412d-e658-e0cf583a9020"
      },
      "source": [
        "dict_a is dict_b # They are the same object"
      ],
      "execution_count": null,
      "outputs": [
        {
          "data": {
            "text/plain": [
              "True"
            ]
          },
          "execution_count": 65,
          "metadata": {},
          "output_type": "execute_result"
        }
      ]
    },
    {
      "cell_type": "code",
      "metadata": {
        "id": "nJz2voxAhtEV",
        "outputId": "e7be822f-0175-4574-93f1-30fdba5bcfe9"
      },
      "source": [
        "dict_a = {'A': 10, 'B': 20, 'C': 30}\n",
        "dict_b = dict_a.copy()\n",
        "dict_b['A'] = 100\n",
        "print(dict_a, dict_b) # dict_a remains unaltered"
      ],
      "execution_count": null,
      "outputs": [
        {
          "name": "stdout",
          "output_type": "stream",
          "text": [
            "{'A': 10, 'B': 20, 'C': 30} {'A': 100, 'B': 20, 'C': 30}\n"
          ]
        }
      ]
    },
    {
      "cell_type": "code",
      "metadata": {
        "id": "kF-sFCDzhtEV",
        "outputId": "bb1f684d-3aef-4951-9f97-7643b73093a8"
      },
      "source": [
        "dict_a is dict_b # They are different objects"
      ],
      "execution_count": null,
      "outputs": [
        {
          "data": {
            "text/plain": [
              "False"
            ]
          },
          "execution_count": 67,
          "metadata": {},
          "output_type": "execute_result"
        }
      ]
    },
    {
      "cell_type": "markdown",
      "metadata": {
        "id": "vvasIL2NhtEV"
      },
      "source": [
        "**Nested Dictionary**"
      ]
    },
    {
      "cell_type": "code",
      "metadata": {
        "id": "2iTEz3FPhtEX"
      },
      "source": [
        "section = {\n",
        "    101: {'name': 'Michael', 'marks': 95},\n",
        "    102: {'name': 'John', 'marks': 90},\n",
        "    103: {'name': 'Henry', 'marks': 85}\n",
        "}"
      ],
      "execution_count": null,
      "outputs": []
    },
    {
      "cell_type": "code",
      "metadata": {
        "id": "Rp0qEss_htEX",
        "outputId": "c74da48f-d40d-4f91-a4a3-521654a9444e"
      },
      "source": [
        "section[101] # Get details of student with roll no. 101"
      ],
      "execution_count": null,
      "outputs": [
        {
          "data": {
            "text/plain": [
              "{'name': 'Michael', 'marks': 95}"
            ]
          },
          "execution_count": 69,
          "metadata": {},
          "output_type": "execute_result"
        }
      ]
    },
    {
      "cell_type": "markdown",
      "metadata": {
        "id": "i7ULpBPshtEX"
      },
      "source": [
        "Here, you can see that the corresponding value of `101` is another dictionary. Furthermore, you can use keys to access the values of the nested dictionary."
      ]
    },
    {
      "cell_type": "code",
      "metadata": {
        "id": "iO70Wjh1htEX",
        "outputId": "d94affcd-5058-48d3-a527-75e699af771d"
      },
      "source": [
        "section[101][\"name\"]"
      ],
      "execution_count": null,
      "outputs": [
        {
          "data": {
            "text/plain": [
              "'Michael'"
            ]
          },
          "execution_count": 70,
          "metadata": {},
          "output_type": "execute_result"
        }
      ]
    },
    {
      "cell_type": "code",
      "metadata": {
        "id": "Yqg8lYprhtEY",
        "outputId": "ba8c42e4-ebf1-4d32-aea8-0d13d1906b24"
      },
      "source": [
        "section[101][\"name\"][3]"
      ],
      "execution_count": null,
      "outputs": [
        {
          "data": {
            "text/plain": [
              "'h'"
            ]
          },
          "execution_count": 71,
          "metadata": {},
          "output_type": "execute_result"
        }
      ]
    },
    {
      "cell_type": "code",
      "metadata": {
        "id": "u1K3x9ShhtEY"
      },
      "source": [
        "section[101][\"grade\"] = 'A+' # Add new key: value pair inside nested dictionary"
      ],
      "execution_count": null,
      "outputs": []
    },
    {
      "cell_type": "code",
      "metadata": {
        "id": "GhpDPfrAhtEY",
        "outputId": "5161e40f-590a-4fd5-d93b-b7e9dadfdadb"
      },
      "source": [
        "section"
      ],
      "execution_count": null,
      "outputs": [
        {
          "data": {
            "text/plain": [
              "{101: {'name': 'Michael', 'marks': 95, 'grade': 'A+'},\n",
              " 102: {'name': 'John', 'marks': 90},\n",
              " 103: {'name': 'Henry', 'marks': 85}}"
            ]
          },
          "execution_count": 73,
          "metadata": {},
          "output_type": "execute_result"
        }
      ]
    },
    {
      "cell_type": "code",
      "metadata": {
        "id": "DjRBamXAhtEZ"
      },
      "source": [
        "college = {\n",
        "    'CSE': {\n",
        "        1: {\n",
        "            'A': section, \n",
        "            \"B\": {}\n",
        "        },\n",
        "        2: {}\n",
        "    },\n",
        "    'ECE': {}\n",
        "}"
      ],
      "execution_count": null,
      "outputs": []
    },
    {
      "cell_type": "code",
      "metadata": {
        "id": "kcwJXoBvhtEZ",
        "outputId": "c99ad878-7d48-4974-e20a-a66d30650a9f"
      },
      "source": [
        "college"
      ],
      "execution_count": null,
      "outputs": [
        {
          "data": {
            "text/plain": [
              "{'CSE': {1: {'A': {101: {'name': 'Michael', 'marks': 95, 'grade': 'A+'},\n",
              "    102: {'name': 'John', 'marks': 90},\n",
              "    103: {'name': 'Henry', 'marks': 85}},\n",
              "   'B': {}},\n",
              "  2: {}},\n",
              " 'ECE': {}}"
            ]
          },
          "execution_count": 75,
          "metadata": {},
          "output_type": "execute_result"
        }
      ]
    },
    {
      "cell_type": "code",
      "metadata": {
        "id": "AQUbWx4lhtEZ",
        "outputId": "afaa2162-9a79-4c29-d78c-b08e8b1211ab"
      },
      "source": [
        "college['CSE'][1]['A'][102]['name'][3]"
      ],
      "execution_count": null,
      "outputs": [
        {
          "data": {
            "text/plain": [
              "'n'"
            ]
          },
          "execution_count": 76,
          "metadata": {},
          "output_type": "execute_result"
        }
      ]
    },
    {
      "cell_type": "code",
      "metadata": {
        "id": "rigwVb62htEa",
        "outputId": "4bac89df-fa94-4c47-ec7b-b4635854b78d"
      },
      "source": [
        "# Unit digit of marks of student with roll 103 in CSE 1st year section 'A'\n",
        "print(str(college['CSE'][1]['A'][103]['marks'])[-1])\n",
        "# or,\n",
        "print(college['CSE'][1]['A'][103]['marks'] % 10)"
      ],
      "execution_count": null,
      "outputs": [
        {
          "name": "stdout",
          "output_type": "stream",
          "text": [
            "5\n",
            "5\n"
          ]
        }
      ]
    },
    {
      "cell_type": "markdown",
      "metadata": {
        "id": "vHufBayKhtEa"
      },
      "source": [
        "**Using `setdefault()`**"
      ]
    },
    {
      "cell_type": "code",
      "metadata": {
        "id": "KeBDxydmhtEa"
      },
      "source": [
        "marks = {\n",
        "    \"John\": 80,\n",
        "    \"Arthur\": 75,\n",
        "    \"Jake\": 85\n",
        "}"
      ],
      "execution_count": null,
      "outputs": []
    },
    {
      "cell_type": "markdown",
      "metadata": {
        "id": "oaIlCFHPhtEb"
      },
      "source": [
        "`setdefault(key, default)` will give us the corresponding value of a key if that key exists in the dictionary."
      ]
    },
    {
      "cell_type": "code",
      "metadata": {
        "id": "B5a6guuKhtEb",
        "outputId": "20f726a1-f5a9-4bc1-f842-b068eec69a3d"
      },
      "source": [
        "marks.setdefault(\"John\", 40)"
      ],
      "execution_count": null,
      "outputs": [
        {
          "data": {
            "text/plain": [
              "80"
            ]
          },
          "execution_count": 79,
          "metadata": {},
          "output_type": "execute_result"
        }
      ]
    },
    {
      "cell_type": "markdown",
      "metadata": {
        "id": "QThd8U4yhtEb"
      },
      "source": [
        "`setdefault(key, default)` will add a new key value pair with the `default` as the value if that key doesn't exist in the dictionary."
      ]
    },
    {
      "cell_type": "code",
      "metadata": {
        "id": "_q5BlqHxhtEb",
        "outputId": "7c301c43-6342-4ff8-8adc-f731105c5e82"
      },
      "source": [
        "marks.setdefault(\"Daniel\", 40)"
      ],
      "execution_count": null,
      "outputs": [
        {
          "data": {
            "text/plain": [
              "40"
            ]
          },
          "execution_count": 80,
          "metadata": {},
          "output_type": "execute_result"
        }
      ]
    },
    {
      "cell_type": "code",
      "metadata": {
        "id": "MaldqTXphtEb",
        "outputId": "97f00009-297f-4e6e-d300-e477f3475e46"
      },
      "source": [
        "marks"
      ],
      "execution_count": null,
      "outputs": [
        {
          "data": {
            "text/plain": [
              "{'John': 80, 'Arthur': 75, 'Jake': 85, 'Daniel': 40}"
            ]
          },
          "execution_count": 81,
          "metadata": {},
          "output_type": "execute_result"
        }
      ]
    }
  ]
}
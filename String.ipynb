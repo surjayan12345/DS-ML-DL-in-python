{
  "nbformat": 4,
  "nbformat_minor": 5,
  "metadata": {
    "kernelspec": {
      "display_name": "Python 3",
      "language": "python",
      "name": "python3"
    },
    "language_info": {
      "codemirror_mode": {
        "name": "ipython",
        "version": 3
      },
      "file_extension": ".py",
      "mimetype": "text/x-python",
      "name": "python",
      "nbconvert_exporter": "python",
      "pygments_lexer": "ipython3",
      "version": "3.8.3"
    },
    "colab": {
      "name": "String.ipynb",
      "provenance": []
    }
  },
  "cells": [
    {
      "cell_type": "markdown",
      "metadata": {
        "id": "ffe33df8"
      },
      "source": [
        "# String\n",
        "A string is a data type used in programming, such as an integer and floating point unit, but is used to represent text rather than numbers. It is comprised of a set of characters that can also contain spaces and numbers."
      ],
      "id": "ffe33df8"
    },
    {
      "cell_type": "markdown",
      "metadata": {
        "id": "bea037cf-4e64-4b00-9a14-1de411e76432"
      },
      "source": [
        "## Topics\n",
        "* String Data Type\n",
        "* String Indexing & Slicing\n",
        "* Escape Characters\n",
        "* String Formatting\n",
        "* Find Substring\n",
        "* String Constants\n",
        "* String Functions"
      ],
      "id": "bea037cf-4e64-4b00-9a14-1de411e76432"
    },
    {
      "cell_type": "markdown",
      "metadata": {
        "id": "4fe8456b"
      },
      "source": [
        "### String Data Type\n",
        "Strings in python are surrounded by either single quotation marks, or double quotation marks. In Python single and double quote both can be used for strings. `'hello'` is the same as `\"hello\"`. You can display a string with the print() function just like any other data type."
      ],
      "id": "4fe8456b"
    },
    {
      "cell_type": "code",
      "metadata": {
        "id": "6f512348"
      },
      "source": [
        "var = \"Hello World\""
      ],
      "id": "6f512348",
      "execution_count": 1,
      "outputs": []
    },
    {
      "cell_type": "code",
      "metadata": {
        "id": "85dedb16"
      },
      "source": [
        "var = 'Hello World'"
      ],
      "id": "85dedb16",
      "execution_count": 2,
      "outputs": []
    },
    {
      "cell_type": "markdown",
      "metadata": {
        "id": "d7ced06e"
      },
      "source": [
        "Python doesn't have a character data type"
      ],
      "id": "d7ced06e"
    },
    {
      "cell_type": "code",
      "metadata": {
        "id": "1179b350",
        "outputId": "82d0de1c-69fc-4776-9ba7-05e8b720201c",
        "colab": {
          "base_uri": "https://localhost:8080/"
        }
      },
      "source": [
        "type(\"hello\")"
      ],
      "id": "1179b350",
      "execution_count": 3,
      "outputs": [
        {
          "output_type": "execute_result",
          "data": {
            "text/plain": [
              "str"
            ]
          },
          "metadata": {},
          "execution_count": 3
        }
      ]
    },
    {
      "cell_type": "code",
      "metadata": {
        "id": "6e74b432",
        "outputId": "c681bbc1-f246-4d44-90e5-0d4aba62ede2",
        "colab": {
          "base_uri": "https://localhost:8080/"
        }
      },
      "source": [
        "type('a')"
      ],
      "id": "6e74b432",
      "execution_count": 4,
      "outputs": [
        {
          "output_type": "execute_result",
          "data": {
            "text/plain": [
              "str"
            ]
          },
          "metadata": {},
          "execution_count": 4
        }
      ]
    },
    {
      "cell_type": "markdown",
      "metadata": {
        "id": "6eb4d9b7"
      },
      "source": [
        "#### Quotes\n",
        "We cannot use single quote inside single quote string."
      ],
      "id": "6eb4d9b7"
    },
    {
      "cell_type": "code",
      "metadata": {
        "id": "06bc14fc",
        "outputId": "86ff03be-febb-4d25-e315-0b2f7689f8e2",
        "colab": {
          "base_uri": "https://localhost:8080/",
          "height": 132
        }
      },
      "source": [
        "print('Hey it's me.')"
      ],
      "id": "06bc14fc",
      "execution_count": 5,
      "outputs": [
        {
          "output_type": "error",
          "ename": "SyntaxError",
          "evalue": "ignored",
          "traceback": [
            "\u001b[0;36m  File \u001b[0;32m\"<ipython-input-5-a08c3326090d>\"\u001b[0;36m, line \u001b[0;32m1\u001b[0m\n\u001b[0;31m    print('Hey it's me.')\u001b[0m\n\u001b[0m                  ^\u001b[0m\n\u001b[0;31mSyntaxError\u001b[0m\u001b[0;31m:\u001b[0m invalid syntax\n"
          ]
        }
      ]
    },
    {
      "cell_type": "markdown",
      "metadata": {
        "id": "058ed06e"
      },
      "source": [
        "But we can use single inside double or vice versa."
      ],
      "id": "058ed06e"
    },
    {
      "cell_type": "code",
      "metadata": {
        "id": "9b0f52ac",
        "outputId": "ddd2d19d-9208-4ce0-90f5-f31a9aef00aa",
        "colab": {
          "base_uri": "https://localhost:8080/"
        }
      },
      "source": [
        "print(\"Hey, it's me.\")"
      ],
      "id": "9b0f52ac",
      "execution_count": 6,
      "outputs": [
        {
          "output_type": "stream",
          "name": "stdout",
          "text": [
            "Hey, it's me.\n"
          ]
        }
      ]
    },
    {
      "cell_type": "markdown",
      "metadata": {
        "id": "01c92dcd"
      },
      "source": [
        "**To insert characters that are illegal in a string, use an escape character.**  \n",
        "An escape character is a backslash `\\` followed by the character you want to insert."
      ],
      "id": "01c92dcd"
    },
    {
      "cell_type": "code",
      "metadata": {
        "id": "529c2790",
        "outputId": "2dca1746-c086-4e1d-c701-1e71d59eee58",
        "colab": {
          "base_uri": "https://localhost:8080/"
        }
      },
      "source": [
        "print(\"He said, \\\"I am busy today.\\\"\")"
      ],
      "id": "529c2790",
      "execution_count": 7,
      "outputs": [
        {
          "output_type": "stream",
          "name": "stdout",
          "text": [
            "He said, \"I am busy today.\"\n"
          ]
        }
      ]
    },
    {
      "cell_type": "markdown",
      "metadata": {
        "id": "f03fac4f"
      },
      "source": [
        "#### Multiline String"
      ],
      "id": "f03fac4f"
    },
    {
      "cell_type": "markdown",
      "metadata": {
        "id": "9e12216d"
      },
      "source": [
        "We can use `''' '''` or `\"\"\" \"\"\"` to write multiline string."
      ],
      "id": "9e12216d"
    },
    {
      "cell_type": "code",
      "metadata": {
        "id": "a1e930c9",
        "outputId": "2718b2f1-648b-4b35-dbc6-ea637676ac81",
        "colab": {
          "base_uri": "https://localhost:8080/"
        }
      },
      "source": [
        "multiline = \"\"\"Hello\n",
        "World\"\"\"\n",
        "print(multiline)"
      ],
      "id": "a1e930c9",
      "execution_count": 8,
      "outputs": [
        {
          "output_type": "stream",
          "name": "stdout",
          "text": [
            "Hello\n",
            "World\n"
          ]
        }
      ]
    },
    {
      "cell_type": "code",
      "metadata": {
        "id": "80c37e96-f213-407c-8748-c09d92322c20",
        "outputId": "d0d226a5-9169-40f0-cd8c-02ffaa02c704",
        "colab": {
          "base_uri": "https://localhost:8080/"
        }
      },
      "source": [
        "# Alternative\n",
        "s = \"Hello\\nWorld\"\n",
        "print(s)"
      ],
      "id": "80c37e96-f213-407c-8748-c09d92322c20",
      "execution_count": 9,
      "outputs": [
        {
          "output_type": "stream",
          "name": "stdout",
          "text": [
            "Hello\n",
            "World\n"
          ]
        }
      ]
    },
    {
      "cell_type": "markdown",
      "metadata": {
        "id": "1e8d0440"
      },
      "source": [
        "#### Concatenation\n",
        "Python allows us to easily concatenate strings using `+`."
      ],
      "id": "1e8d0440"
    },
    {
      "cell_type": "code",
      "metadata": {
        "id": "b3cf38b4",
        "outputId": "5f229ea7-0851-4273-eaf2-75f8030b5627",
        "colab": {
          "base_uri": "https://localhost:8080/"
        }
      },
      "source": [
        "name = \"Michael\"\n",
        "print(\"Hello, \" + name)"
      ],
      "id": "b3cf38b4",
      "execution_count": 10,
      "outputs": [
        {
          "output_type": "stream",
          "name": "stdout",
          "text": [
            "Hello, Michael\n"
          ]
        }
      ]
    },
    {
      "cell_type": "code",
      "metadata": {
        "id": "eaddd8f5",
        "outputId": "1cef60ab-a02b-4a45-8277-fd936bc82649",
        "colab": {
          "base_uri": "https://localhost:8080/"
        }
      },
      "source": [
        "print(\"Hello, \" + \"Michael\")"
      ],
      "id": "eaddd8f5",
      "execution_count": 11,
      "outputs": [
        {
          "output_type": "stream",
          "name": "stdout",
          "text": [
            "Hello, Michael\n"
          ]
        }
      ]
    },
    {
      "cell_type": "markdown",
      "metadata": {
        "id": "d558503e"
      },
      "source": [
        "You can only concatenate a string to another string."
      ],
      "id": "d558503e"
    },
    {
      "cell_type": "code",
      "metadata": {
        "id": "10a3676e",
        "outputId": "828cf32a-9900-48a3-a0e1-dd4f4208e008",
        "colab": {
          "base_uri": "https://localhost:8080/",
          "height": 167
        }
      },
      "source": [
        "\"Michael's age is \" + 30 # TypeError"
      ],
      "id": "10a3676e",
      "execution_count": 12,
      "outputs": [
        {
          "output_type": "error",
          "ename": "TypeError",
          "evalue": "ignored",
          "traceback": [
            "\u001b[0;31m---------------------------------------------------------------------------\u001b[0m",
            "\u001b[0;31mTypeError\u001b[0m                                 Traceback (most recent call last)",
            "\u001b[0;32m<ipython-input-12-25290451d79f>\u001b[0m in \u001b[0;36m<module>\u001b[0;34m()\u001b[0m\n\u001b[0;32m----> 1\u001b[0;31m \u001b[0;34m\"Michael's age is \"\u001b[0m \u001b[0;34m+\u001b[0m \u001b[0;36m30\u001b[0m \u001b[0;31m# TypeError\u001b[0m\u001b[0;34m\u001b[0m\u001b[0;34m\u001b[0m\u001b[0m\n\u001b[0m",
            "\u001b[0;31mTypeError\u001b[0m: can only concatenate str (not \"int\") to str"
          ]
        }
      ]
    },
    {
      "cell_type": "markdown",
      "metadata": {
        "id": "9c6c07f2"
      },
      "source": [
        "**Concatenating Integers to Strings:** In Python, only a string can be concatenated with another string. If you need to concatenate a string with another data type, you need to convert it to string using `str()` function or some other method. Note that if your goal is to only print, then you can just print them with a comma without any conversion."
      ],
      "id": "9c6c07f2"
    },
    {
      "cell_type": "code",
      "metadata": {
        "id": "e8a6a7bb-61a9-45f2-8c9c-aa3a167a63da",
        "outputId": "1d49822c-eae4-48ec-a7c3-27fef961306e",
        "colab": {
          "base_uri": "https://localhost:8080/"
        }
      },
      "source": [
        "print(\"Michael's age is\", 30)"
      ],
      "id": "e8a6a7bb-61a9-45f2-8c9c-aa3a167a63da",
      "execution_count": 13,
      "outputs": [
        {
          "output_type": "stream",
          "name": "stdout",
          "text": [
            "Michael's age is 30\n"
          ]
        }
      ]
    },
    {
      "cell_type": "code",
      "metadata": {
        "id": "1dade6ae",
        "outputId": "f59d09a3-c82a-45f8-be88-3cbaa8ae2a91",
        "colab": {
          "base_uri": "https://localhost:8080/"
        }
      },
      "source": [
        "age = 30\n",
        "print(\"Michael's age is \" + str(age))"
      ],
      "id": "1dade6ae",
      "execution_count": 14,
      "outputs": [
        {
          "output_type": "stream",
          "name": "stdout",
          "text": [
            "Michael's age is 30\n"
          ]
        }
      ]
    },
    {
      "cell_type": "code",
      "metadata": {
        "id": "4eaed5ff",
        "outputId": "05c36f78-b62e-4bfe-8c58-8e4ac3b5af5b",
        "colab": {
          "base_uri": "https://localhost:8080/"
        }
      },
      "source": [
        "print(\"Michael's age is \" + str(30))"
      ],
      "id": "4eaed5ff",
      "execution_count": 15,
      "outputs": [
        {
          "output_type": "stream",
          "name": "stdout",
          "text": [
            "Michael's age is 30\n"
          ]
        }
      ]
    },
    {
      "cell_type": "markdown",
      "metadata": {
        "id": "9e87496f"
      },
      "source": [
        "`str(value)` is a function that converts any type of compatible data to string."
      ],
      "id": "9e87496f"
    },
    {
      "cell_type": "code",
      "metadata": {
        "id": "147c75df",
        "outputId": "4823f924-7bef-498c-e4d9-a7821aee4710",
        "colab": {
          "base_uri": "https://localhost:8080/"
        }
      },
      "source": [
        "print(\"Hello \" + str(12731.1273618))"
      ],
      "id": "147c75df",
      "execution_count": 16,
      "outputs": [
        {
          "output_type": "stream",
          "name": "stdout",
          "text": [
            "Hello 12731.1273618\n"
          ]
        }
      ]
    },
    {
      "cell_type": "markdown",
      "metadata": {
        "id": "c4ee453a"
      },
      "source": [
        "#### String Multiplication\n",
        "If we want replicate our String , then we can use multiplication operator `*` on that string with  desired no of repeats. "
      ],
      "id": "c4ee453a"
    },
    {
      "cell_type": "code",
      "metadata": {
        "id": "4e8d0fee",
        "outputId": "c525dda1-fd37-40f5-afb5-fe5840ae3409",
        "colab": {
          "base_uri": "https://localhost:8080/"
        }
      },
      "source": [
        "print(\"ABC\" * 3)"
      ],
      "id": "4e8d0fee",
      "execution_count": 17,
      "outputs": [
        {
          "output_type": "stream",
          "name": "stdout",
          "text": [
            "ABCABCABC\n"
          ]
        }
      ]
    },
    {
      "cell_type": "markdown",
      "metadata": {
        "id": "03f96d49-a903-4a44-87e7-a8ea13dfaa9c"
      },
      "source": [
        "Since the result is a string, it can be concatenated to other strings as well."
      ],
      "id": "03f96d49-a903-4a44-87e7-a8ea13dfaa9c"
    },
    {
      "cell_type": "code",
      "metadata": {
        "id": "91fe1485",
        "outputId": "4dda8a6b-308d-4c65-9b34-952af4c37f4d",
        "colab": {
          "base_uri": "https://localhost:8080/"
        }
      },
      "source": [
        "print(\"p\" * 3 + \"q\" * 4 + \"r\" * 2)"
      ],
      "id": "91fe1485",
      "execution_count": 18,
      "outputs": [
        {
          "output_type": "stream",
          "name": "stdout",
          "text": [
            "pppqqqqrr\n"
          ]
        }
      ]
    },
    {
      "cell_type": "markdown",
      "metadata": {
        "id": "31cf36ab"
      },
      "source": [
        "#### String Length\n",
        "It gives us that how many characters we have in a string."
      ],
      "id": "31cf36ab"
    },
    {
      "cell_type": "code",
      "metadata": {
        "id": "56871672",
        "outputId": "10715079-a190-49b5-a14a-4a81c25a6609"
      },
      "source": [
        "len(\"hello\")"
      ],
      "id": "56871672",
      "execution_count": null,
      "outputs": [
        {
          "data": {
            "text/plain": [
              "5"
            ]
          },
          "execution_count": 20,
          "metadata": {},
          "output_type": "execute_result"
        }
      ]
    },
    {
      "cell_type": "code",
      "metadata": {
        "id": "44a8f0c8",
        "outputId": "48304227-d452-4d5c-ca89-18d5170d947d"
      },
      "source": [
        "s = \"Hello World\"\n",
        "len(s)"
      ],
      "id": "44a8f0c8",
      "execution_count": null,
      "outputs": [
        {
          "data": {
            "text/plain": [
              "11"
            ]
          },
          "execution_count": 21,
          "metadata": {},
          "output_type": "execute_result"
        }
      ]
    },
    {
      "cell_type": "markdown",
      "metadata": {
        "id": "cdb66a84-8700-4b49-8036-e090f6ef7f5a"
      },
      "source": [
        " Keep in mind that escape sequences like `\\n` counts as a single character."
      ],
      "id": "cdb66a84-8700-4b49-8036-e090f6ef7f5a"
    },
    {
      "cell_type": "code",
      "metadata": {
        "id": "50601364-b0a8-41bf-8139-26fb13d70515",
        "outputId": "00c35347-38e0-4b28-d343-d9a81616bf14"
      },
      "source": [
        "len(\"AB\\nCD\")"
      ],
      "id": "50601364-b0a8-41bf-8139-26fb13d70515",
      "execution_count": null,
      "outputs": [
        {
          "data": {
            "text/plain": [
              "5"
            ]
          },
          "execution_count": 22,
          "metadata": {},
          "output_type": "execute_result"
        }
      ]
    },
    {
      "cell_type": "markdown",
      "metadata": {
        "id": "e56ab08a"
      },
      "source": [
        "`len()` is a function that returns the length of an object"
      ],
      "id": "e56ab08a"
    },
    {
      "cell_type": "markdown",
      "metadata": {
        "id": "f3d305f2"
      },
      "source": [
        "### String Indexing & Slicing:\n",
        "Strings can be indexed (subscripted), with the first character having index 0. There is no separate character\n",
        "type. A character is simply a string of size one. Python also allows for negative indexing, with the last (righmost) character having index -1, second last element having index -2, and so on. Given below is an example for the string \"Hello\".\n",
        "\n",
        "| String | H | e | l | l | o |\n",
        "| --- | --- | --- | --- | --- | --- |\n",
        "| Index | 0 | 1 | 2 | 3 | 4 |\n",
        "| Index (-ve) | -5 | -4 | -3 | -2 | -1 |"
      ],
      "id": "f3d305f2"
    },
    {
      "cell_type": "markdown",
      "metadata": {
        "id": "19f76ecd"
      },
      "source": [
        "**Indexing**"
      ],
      "id": "19f76ecd"
    },
    {
      "cell_type": "code",
      "metadata": {
        "id": "2c1dfcde",
        "outputId": "8c1604c6-1e29-448a-a218-040e5911454c",
        "colab": {
          "base_uri": "https://localhost:8080/",
          "height": 36
        }
      },
      "source": [
        "\"Hello\"[0]"
      ],
      "id": "2c1dfcde",
      "execution_count": 19,
      "outputs": [
        {
          "output_type": "execute_result",
          "data": {
            "application/vnd.google.colaboratory.intrinsic+json": {
              "type": "string"
            },
            "text/plain": [
              "'H'"
            ]
          },
          "metadata": {},
          "execution_count": 19
        }
      ]
    },
    {
      "cell_type": "code",
      "metadata": {
        "id": "5fe78143",
        "outputId": "19a4c3ed-80a2-4715-8815-aaa83bfdddea",
        "colab": {
          "base_uri": "https://localhost:8080/",
          "height": 36
        }
      },
      "source": [
        "\"Hello\"[-1] # Negative Indexing"
      ],
      "id": "5fe78143",
      "execution_count": 20,
      "outputs": [
        {
          "output_type": "execute_result",
          "data": {
            "application/vnd.google.colaboratory.intrinsic+json": {
              "type": "string"
            },
            "text/plain": [
              "'o'"
            ]
          },
          "metadata": {},
          "execution_count": 20
        }
      ]
    },
    {
      "cell_type": "code",
      "metadata": {
        "id": "5269cc68",
        "outputId": "1329d9d6-c276-464c-8a7c-09fff6c75b7c",
        "colab": {
          "base_uri": "https://localhost:8080/",
          "height": 36
        }
      },
      "source": [
        "\"Hello\"[4]"
      ],
      "id": "5269cc68",
      "execution_count": 21,
      "outputs": [
        {
          "output_type": "execute_result",
          "data": {
            "application/vnd.google.colaboratory.intrinsic+json": {
              "type": "string"
            },
            "text/plain": [
              "'o'"
            ]
          },
          "metadata": {},
          "execution_count": 21
        }
      ]
    },
    {
      "cell_type": "code",
      "metadata": {
        "id": "4a10fa19",
        "outputId": "99e127d3-5b83-41b9-98f9-7808a4df0b17",
        "colab": {
          "base_uri": "https://localhost:8080/",
          "height": 36
        }
      },
      "source": [
        "s = \"hello\"\n",
        "s[len(s) - 1]"
      ],
      "id": "4a10fa19",
      "execution_count": 22,
      "outputs": [
        {
          "output_type": "execute_result",
          "data": {
            "application/vnd.google.colaboratory.intrinsic+json": {
              "type": "string"
            },
            "text/plain": [
              "'o'"
            ]
          },
          "metadata": {},
          "execution_count": 22
        }
      ]
    },
    {
      "cell_type": "code",
      "metadata": {
        "id": "8b9e4ca9"
      },
      "source": [
        "s = \"Hello World\""
      ],
      "id": "8b9e4ca9",
      "execution_count": 23,
      "outputs": []
    },
    {
      "cell_type": "code",
      "metadata": {
        "id": "abf848f0",
        "outputId": "edd4b825-23ed-47f7-a5ed-17cbfb692d7b",
        "colab": {
          "base_uri": "https://localhost:8080/",
          "height": 36
        }
      },
      "source": [
        "s[0]"
      ],
      "id": "abf848f0",
      "execution_count": 24,
      "outputs": [
        {
          "output_type": "execute_result",
          "data": {
            "application/vnd.google.colaboratory.intrinsic+json": {
              "type": "string"
            },
            "text/plain": [
              "'H'"
            ]
          },
          "metadata": {},
          "execution_count": 24
        }
      ]
    },
    {
      "cell_type": "code",
      "metadata": {
        "id": "35d7b342",
        "outputId": "d23b5338-0311-4d0b-afeb-4fd09de8c74d",
        "colab": {
          "base_uri": "https://localhost:8080/",
          "height": 36
        }
      },
      "source": [
        "s[7]"
      ],
      "id": "35d7b342",
      "execution_count": 25,
      "outputs": [
        {
          "output_type": "execute_result",
          "data": {
            "application/vnd.google.colaboratory.intrinsic+json": {
              "type": "string"
            },
            "text/plain": [
              "'o'"
            ]
          },
          "metadata": {},
          "execution_count": 25
        }
      ]
    },
    {
      "cell_type": "code",
      "metadata": {
        "id": "302e2a55",
        "outputId": "7f019c69-1d59-4e2c-a880-9447054ae659",
        "colab": {
          "base_uri": "https://localhost:8080/",
          "height": 36
        }
      },
      "source": [
        "s[-4]"
      ],
      "id": "302e2a55",
      "execution_count": 26,
      "outputs": [
        {
          "output_type": "execute_result",
          "data": {
            "application/vnd.google.colaboratory.intrinsic+json": {
              "type": "string"
            },
            "text/plain": [
              "'o'"
            ]
          },
          "metadata": {},
          "execution_count": 26
        }
      ]
    },
    {
      "cell_type": "code",
      "metadata": {
        "id": "93057c37-04a6-4f5d-9c74-df2b00da17e2",
        "outputId": "6c182b29-c389-4229-98e3-ac22625b155e",
        "colab": {
          "base_uri": "https://localhost:8080/"
        }
      },
      "source": [
        "len(s)"
      ],
      "id": "93057c37-04a6-4f5d-9c74-df2b00da17e2",
      "execution_count": 27,
      "outputs": [
        {
          "output_type": "execute_result",
          "data": {
            "text/plain": [
              "11"
            ]
          },
          "metadata": {},
          "execution_count": 27
        }
      ]
    },
    {
      "cell_type": "markdown",
      "metadata": {
        "id": "5fde2d72"
      },
      "source": [
        "In the following line of code we have exceeded our index with respect to that string. Basically, the range of positive index is from `0` to `len(str) - 1` and range of negative index is from `-1` (righmost) to `-len(str)` (leftmost)."
      ],
      "id": "5fde2d72"
    },
    {
      "cell_type": "code",
      "metadata": {
        "id": "8f052604",
        "outputId": "08cbfe39-d4d0-4fd5-8ce3-117c4a6ef86c",
        "colab": {
          "base_uri": "https://localhost:8080/",
          "height": 167
        }
      },
      "source": [
        "s[11]"
      ],
      "id": "8f052604",
      "execution_count": 29,
      "outputs": [
        {
          "output_type": "error",
          "ename": "IndexError",
          "evalue": "ignored",
          "traceback": [
            "\u001b[0;31m---------------------------------------------------------------------------\u001b[0m",
            "\u001b[0;31mIndexError\u001b[0m                                Traceback (most recent call last)",
            "\u001b[0;32m<ipython-input-29-665bb6993e1f>\u001b[0m in \u001b[0;36m<module>\u001b[0;34m()\u001b[0m\n\u001b[0;32m----> 1\u001b[0;31m \u001b[0ms\u001b[0m\u001b[0;34m[\u001b[0m\u001b[0;36m11\u001b[0m\u001b[0;34m]\u001b[0m\u001b[0;34m\u001b[0m\u001b[0;34m\u001b[0m\u001b[0m\n\u001b[0m",
            "\u001b[0;31mIndexError\u001b[0m: string index out of range"
          ]
        }
      ]
    },
    {
      "cell_type": "code",
      "metadata": {
        "id": "b7583e1c",
        "outputId": "1c981b85-02ac-49e0-e36c-6ea3282f338a",
        "colab": {
          "base_uri": "https://localhost:8080/",
          "height": 36
        }
      },
      "source": [
        "s[-11]"
      ],
      "id": "b7583e1c",
      "execution_count": 30,
      "outputs": [
        {
          "output_type": "execute_result",
          "data": {
            "application/vnd.google.colaboratory.intrinsic+json": {
              "type": "string"
            },
            "text/plain": [
              "'H'"
            ]
          },
          "metadata": {},
          "execution_count": 30
        }
      ]
    },
    {
      "cell_type": "code",
      "metadata": {
        "id": "76cd811a",
        "outputId": "528ce735-2fc5-4c20-c8fe-e7d0b73499b0",
        "colab": {
          "base_uri": "https://localhost:8080/",
          "height": 167
        }
      },
      "source": [
        "s[-12]"
      ],
      "id": "76cd811a",
      "execution_count": 31,
      "outputs": [
        {
          "output_type": "error",
          "ename": "IndexError",
          "evalue": "ignored",
          "traceback": [
            "\u001b[0;31m---------------------------------------------------------------------------\u001b[0m",
            "\u001b[0;31mIndexError\u001b[0m                                Traceback (most recent call last)",
            "\u001b[0;32m<ipython-input-31-8d093900ca14>\u001b[0m in \u001b[0;36m<module>\u001b[0;34m()\u001b[0m\n\u001b[0;32m----> 1\u001b[0;31m \u001b[0ms\u001b[0m\u001b[0;34m[\u001b[0m\u001b[0;34m-\u001b[0m\u001b[0;36m12\u001b[0m\u001b[0;34m]\u001b[0m\u001b[0;34m\u001b[0m\u001b[0;34m\u001b[0m\u001b[0m\n\u001b[0m",
            "\u001b[0;31mIndexError\u001b[0m: string index out of range"
          ]
        }
      ]
    },
    {
      "cell_type": "markdown",
      "metadata": {
        "id": "cf6fe9f4"
      },
      "source": [
        "**Slicing:** `string_name[start_index:end_index:step]`  \n",
        "The string is sliced from index `start_index` to `end_index - 1`. In order to make it easy to understand we will be using the string `\"0123456789\"` where the value at each index is equivalent to it's positive index."
      ],
      "id": "cf6fe9f4"
    },
    {
      "cell_type": "code",
      "metadata": {
        "id": "498480ca"
      },
      "source": [
        "s = \"0123456789\""
      ],
      "id": "498480ca",
      "execution_count": 32,
      "outputs": []
    },
    {
      "cell_type": "code",
      "metadata": {
        "id": "556fe7c8",
        "outputId": "082b9d8d-2fd2-4030-ecae-4d81c2d08d6a",
        "colab": {
          "base_uri": "https://localhost:8080/",
          "height": 36
        }
      },
      "source": [
        "# Using only end index\n",
        "# Here we get from index 0 to index 7 (end_index - 1)\n",
        "s[:8]"
      ],
      "id": "556fe7c8",
      "execution_count": 33,
      "outputs": [
        {
          "output_type": "execute_result",
          "data": {
            "application/vnd.google.colaboratory.intrinsic+json": {
              "type": "string"
            },
            "text/plain": [
              "'01234567'"
            ]
          },
          "metadata": {},
          "execution_count": 33
        }
      ]
    },
    {
      "cell_type": "code",
      "metadata": {
        "id": "9518114d",
        "outputId": "20d46d68-1e2e-41f5-ad8b-4d55d34ff782",
        "colab": {
          "base_uri": "https://localhost:8080/",
          "height": 36
        }
      },
      "source": [
        "# Using only start index\n",
        "# Here we get from index 4 (start_index) to the end of the string\n",
        "s[4:]"
      ],
      "id": "9518114d",
      "execution_count": 34,
      "outputs": [
        {
          "output_type": "execute_result",
          "data": {
            "application/vnd.google.colaboratory.intrinsic+json": {
              "type": "string"
            },
            "text/plain": [
              "'456789'"
            ]
          },
          "metadata": {},
          "execution_count": 34
        }
      ]
    },
    {
      "cell_type": "code",
      "metadata": {
        "id": "e5aaa05c-30d6-4f49-9bc4-7d2356a6ded2",
        "outputId": "f0630a24-55f1-4d6b-ec89-68c3f042ff26",
        "colab": {
          "base_uri": "https://localhost:8080/",
          "height": 36
        }
      },
      "source": [
        "# Using both start index and end index\n",
        "# Here we get from index 4 (start_index) to index 7 (end_index - 1)\n",
        "s[4:8]"
      ],
      "id": "e5aaa05c-30d6-4f49-9bc4-7d2356a6ded2",
      "execution_count": 35,
      "outputs": [
        {
          "output_type": "execute_result",
          "data": {
            "application/vnd.google.colaboratory.intrinsic+json": {
              "type": "string"
            },
            "text/plain": [
              "'4567'"
            ]
          },
          "metadata": {},
          "execution_count": 35
        }
      ]
    },
    {
      "cell_type": "code",
      "metadata": {
        "id": "705dcb5c-3051-4cf8-af17-c01d88a3ce4a",
        "outputId": "fb3265d8-b20e-488f-f0c9-4831e3d06c92",
        "colab": {
          "base_uri": "https://localhost:8080/",
          "height": 36
        }
      },
      "source": [
        "# If a single : is used without start or end, then we get a copy of the entire string\n",
        "s[:]"
      ],
      "id": "705dcb5c-3051-4cf8-af17-c01d88a3ce4a",
      "execution_count": 36,
      "outputs": [
        {
          "output_type": "execute_result",
          "data": {
            "application/vnd.google.colaboratory.intrinsic+json": {
              "type": "string"
            },
            "text/plain": [
              "'0123456789'"
            ]
          },
          "metadata": {},
          "execution_count": 36
        }
      ]
    },
    {
      "cell_type": "code",
      "metadata": {
        "id": "21cf9e68-2f82-4ea8-9ac3-88ec3b8a8232",
        "outputId": "75532e14-7fd8-458c-f473-fc895d27e7f7",
        "colab": {
          "base_uri": "https://localhost:8080/",
          "height": 36
        }
      },
      "source": [
        "# Using step\n",
        "# Step can be used with any of the above configurations by adding another colon and a value\n",
        "# Here we get from index 1 to index 7 with a step of 2\n",
        "s[1:8:2]"
      ],
      "id": "21cf9e68-2f82-4ea8-9ac3-88ec3b8a8232",
      "execution_count": 37,
      "outputs": [
        {
          "output_type": "execute_result",
          "data": {
            "application/vnd.google.colaboratory.intrinsic+json": {
              "type": "string"
            },
            "text/plain": [
              "'1357'"
            ]
          },
          "metadata": {},
          "execution_count": 37
        }
      ]
    },
    {
      "cell_type": "code",
      "metadata": {
        "id": "d2b07c6f-57cb-4e33-9315-abec18c6aca5",
        "outputId": "d9e12127-1b3f-45ad-bc4b-0a794dcc74b2",
        "colab": {
          "base_uri": "https://localhost:8080/",
          "height": 36
        }
      },
      "source": [
        "# It may be easier to understand if you can try to think of step as follows\n",
        "s[1] + s[1 + 2] + s[1 + 2 + 2] + s[1 + 2 + 2 + 2] \n",
        "# Any more values will exceed the start_index to (end_index - 1) range"
      ],
      "id": "d2b07c6f-57cb-4e33-9315-abec18c6aca5",
      "execution_count": 39,
      "outputs": [
        {
          "output_type": "execute_result",
          "data": {
            "application/vnd.google.colaboratory.intrinsic+json": {
              "type": "string"
            },
            "text/plain": [
              "'1357'"
            ]
          },
          "metadata": {},
          "execution_count": 39
        }
      ]
    },
    {
      "cell_type": "markdown",
      "metadata": {
        "id": "01e6f4b1"
      },
      "source": [
        "### Escape Characters \n",
        "We use escape characters to add certain characters that cannot be added using a keyboard or may be illegal to add. It consists of a `\\` followed by a character. The whole escape character including the backslash is counted as a single character.\n",
        "\n",
        "| Escape Sequence |\tMeaning |\n",
        "| :-- | :-- |\n",
        "| \\\\\\\\ | Backslash (\\\\) |\n",
        "| \\\\' | Single quote (') |\n",
        "| \\\\\" | Double quote (\") |\n",
        "| \\a | Bell |\n",
        "| \\b | Backspace |\n",
        "| \\f | Formfeed |\n",
        "| \\n | Linefeed (New Line) |\n",
        "| \\r | Carriage Return |\n",
        "| \\t | Horizontal Tab |\n",
        "| \\v | Vertical Tab |\n",
        "\n",
        "*A few examples:-*"
      ],
      "id": "01e6f4b1"
    },
    {
      "cell_type": "code",
      "metadata": {
        "id": "5cf56ad8",
        "outputId": "0679674b-f235-4e44-e974-46786238d5aa",
        "colab": {
          "base_uri": "https://localhost:8080/"
        }
      },
      "source": [
        "print(\"Hello\\nWorld\")"
      ],
      "id": "5cf56ad8",
      "execution_count": 40,
      "outputs": [
        {
          "output_type": "stream",
          "name": "stdout",
          "text": [
            "Hello\n",
            "World\n"
          ]
        }
      ]
    },
    {
      "cell_type": "code",
      "metadata": {
        "id": "4d3ca754",
        "outputId": "3435b53b-756d-4f8e-8ddb-ba0c3f6fb9b6",
        "colab": {
          "base_uri": "https://localhost:8080/"
        }
      },
      "source": [
        "print(\"Hello\\tWorld\")"
      ],
      "id": "4d3ca754",
      "execution_count": 41,
      "outputs": [
        {
          "output_type": "stream",
          "name": "stdout",
          "text": [
            "Hello\tWorld\n"
          ]
        }
      ]
    },
    {
      "cell_type": "code",
      "metadata": {
        "id": "76a513c0",
        "outputId": "ac3b1f9b-fcd7-47b2-bf8c-e90a7e4ea395",
        "colab": {
          "base_uri": "https://localhost:8080/"
        }
      },
      "source": [
        "print(\"Single: \\', Double: \\\"\")"
      ],
      "id": "76a513c0",
      "execution_count": 42,
      "outputs": [
        {
          "output_type": "stream",
          "name": "stdout",
          "text": [
            "Single: ', Double: \"\n"
          ]
        }
      ]
    },
    {
      "cell_type": "code",
      "metadata": {
        "id": "c9e9be0c",
        "outputId": "c9609a5c-964e-4fab-98fb-13ca61536446",
        "colab": {
          "base_uri": "https://localhost:8080/"
        }
      },
      "source": [
        "print(\"Escape Character for new line: \\\\n\")"
      ],
      "id": "c9e9be0c",
      "execution_count": 43,
      "outputs": [
        {
          "output_type": "stream",
          "name": "stdout",
          "text": [
            "Escape Character for new line: \\n\n"
          ]
        }
      ]
    },
    {
      "cell_type": "code",
      "metadata": {
        "id": "cf844bcc-9e30-4578-94cb-7cb9ab68f4b7",
        "outputId": "792bd955-420d-460d-c941-9ef0d0e43cb4",
        "colab": {
          "base_uri": "https://localhost:8080/"
        }
      },
      "source": [
        "print(\"Backslash: \\\\\")"
      ],
      "id": "cf844bcc-9e30-4578-94cb-7cb9ab68f4b7",
      "execution_count": 44,
      "outputs": [
        {
          "output_type": "stream",
          "name": "stdout",
          "text": [
            "Backslash: \\\n"
          ]
        }
      ]
    },
    {
      "cell_type": "code",
      "metadata": {
        "id": "384df048-7dab-4c76-a081-4e68414b2112",
        "outputId": "a2c929bd-0550-464f-c870-9a4fdfee2fa7",
        "colab": {
          "base_uri": "https://localhost:8080/"
        }
      },
      "source": [
        "len(\"\\\\\")"
      ],
      "id": "384df048-7dab-4c76-a081-4e68414b2112",
      "execution_count": 45,
      "outputs": [
        {
          "output_type": "execute_result",
          "data": {
            "text/plain": [
              "1"
            ]
          },
          "metadata": {},
          "execution_count": 45
        }
      ]
    },
    {
      "cell_type": "code",
      "metadata": {
        "id": "68e265d2",
        "outputId": "2d799df1-1a19-41df-e6d1-f41cfdd110e1",
        "colab": {
          "base_uri": "https://localhost:8080/"
        }
      },
      "source": [
        "len(\"\\\\n\") # Here '\\\\' is one character and 'n' is the other character"
      ],
      "id": "68e265d2",
      "execution_count": 46,
      "outputs": [
        {
          "output_type": "execute_result",
          "data": {
            "text/plain": [
              "2"
            ]
          },
          "metadata": {},
          "execution_count": 46
        }
      ]
    },
    {
      "cell_type": "markdown",
      "metadata": {
        "id": "2d8a29e0"
      },
      "source": [
        "### String Formatting\n",
        "Python allows you to do % formatting as in other languages like C, C++, Java, etc. However, once you start using several parameters and longer strings, your code will quickly become much less readable. Moreover, this kind of formatting isn’t great because it is verbose and leads to errors, like not displaying tuples or dictionaries correctly. We will discuss two methods for formatted string: `format()` and f-String `f\"\"`."
      ],
      "id": "2d8a29e0"
    },
    {
      "cell_type": "markdown",
      "metadata": {
        "id": "c13ee9ed"
      },
      "source": [
        "**format():** The `format()` method formats the specified values and inserts them inside the string's placeholder. The placeholder is defined using curly brackets: `{}`. The `format()` method returns the formatted string."
      ],
      "id": "c13ee9ed"
    },
    {
      "cell_type": "code",
      "metadata": {
        "id": "83c2e58b",
        "outputId": "7a703c38-6b49-4d10-f7a5-345352c9bb1d",
        "colab": {
          "base_uri": "https://localhost:8080/"
        }
      },
      "source": [
        "name = \"Michael\"\n",
        "sentence = \"My name is {}.\"\n",
        "print(sentence.format(name))"
      ],
      "id": "83c2e58b",
      "execution_count": 47,
      "outputs": [
        {
          "output_type": "stream",
          "name": "stdout",
          "text": [
            "My name is Michael.\n"
          ]
        }
      ]
    },
    {
      "cell_type": "markdown",
      "metadata": {
        "id": "345c3c89"
      },
      "source": [
        "You can use multiple placeholders. Data type doesn't matter. They will be automatically converted to string."
      ],
      "id": "345c3c89"
    },
    {
      "cell_type": "code",
      "metadata": {
        "id": "d0b21ef4",
        "outputId": "41ecbd0e-b6f8-45f9-8f18-34ad93377f27",
        "colab": {
          "base_uri": "https://localhost:8080/"
        }
      },
      "source": [
        "name = \"Michael\"\n",
        "age = 30\n",
        "sentence = \"My name is {} and my age is {}.\"\n",
        "print(sentence.format(name, age))"
      ],
      "id": "d0b21ef4",
      "execution_count": 48,
      "outputs": [
        {
          "output_type": "stream",
          "name": "stdout",
          "text": [
            "My name is Michael and my age is 30.\n"
          ]
        }
      ]
    },
    {
      "cell_type": "markdown",
      "metadata": {
        "id": "ae7a456f"
      },
      "source": [
        "The placeholders can be identified using named index (Eg. `{price}`) or numbered index (Eg. `{0}`)"
      ],
      "id": "ae7a456f"
    },
    {
      "cell_type": "code",
      "metadata": {
        "id": "f35a6192",
        "outputId": "10bb4ed3-5351-4d8a-fc9c-a9f0dee659a4",
        "colab": {
          "base_uri": "https://localhost:8080/"
        }
      },
      "source": [
        "name = \"Michael\"\n",
        "age = 30\n",
        "print(\"My name is {person_name} and I am {person_age} years old.\"\n",
        "      .format(person_age=age, person_name=name))"
      ],
      "id": "f35a6192",
      "execution_count": 49,
      "outputs": [
        {
          "output_type": "stream",
          "name": "stdout",
          "text": [
            "My name is Michael and I am 30 years old.\n"
          ]
        }
      ]
    },
    {
      "cell_type": "code",
      "metadata": {
        "id": "9fa87d32",
        "outputId": "3fb3e87a-2533-4f76-f41f-afda6d5320ad",
        "colab": {
          "base_uri": "https://localhost:8080/"
        }
      },
      "source": [
        "name = \"Michael\"\n",
        "age = 30\n",
        "print(\"My name is {1} and I am {0} years old.\".format(age, name))"
      ],
      "id": "9fa87d32",
      "execution_count": 50,
      "outputs": [
        {
          "output_type": "stream",
          "name": "stdout",
          "text": [
            "My name is Michael and I am 30 years old.\n"
          ]
        }
      ]
    },
    {
      "cell_type": "markdown",
      "metadata": {
        "id": "d5eff861"
      },
      "source": [
        "**f-Strings:**  They are string literals that have a `f` at the beginning and the curly braces `{}` containing expressions that will be replaced with their values. The expressions are evaluated at runtime and then formatted. Thus f-strings are faster than both `%` formatting and `str.format()`. *A drawback of f-Strings is that they cannot contain escape sequences in the `{}` part.*"
      ],
      "id": "d5eff861"
    },
    {
      "cell_type": "code",
      "metadata": {
        "id": "55e3c392",
        "outputId": "c154993e-8caf-4707-f79b-118a3553f84d",
        "colab": {
          "base_uri": "https://localhost:8080/"
        }
      },
      "source": [
        "age = 30\n",
        "print(f\"I am {age} years old.\")"
      ],
      "id": "55e3c392",
      "execution_count": 51,
      "outputs": [
        {
          "output_type": "stream",
          "name": "stdout",
          "text": [
            "I am 30 years old.\n"
          ]
        }
      ]
    },
    {
      "cell_type": "code",
      "metadata": {
        "id": "40b5e7a7",
        "outputId": "92452ae1-03ee-4b81-b09a-03227c3758a2",
        "colab": {
          "base_uri": "https://localhost:8080/"
        }
      },
      "source": [
        "name = \"Michael\"\n",
        "age = 30\n",
        "print(f\"{name} is {age} years old.\")"
      ],
      "id": "40b5e7a7",
      "execution_count": 52,
      "outputs": [
        {
          "output_type": "stream",
          "name": "stdout",
          "text": [
            "Michael is 30 years old.\n"
          ]
        }
      ]
    },
    {
      "cell_type": "code",
      "metadata": {
        "id": "0dac6907",
        "outputId": "e9246416-fa2a-4eb2-d6ab-e14dea69a63e",
        "colab": {
          "base_uri": "https://localhost:8080/"
        }
      },
      "source": [
        "name = \"Michael\"\n",
        "age = 30\n",
        "print(f\"{name} is {age * 365 * 24 * 3600} seconds old.\")"
      ],
      "id": "0dac6907",
      "execution_count": 53,
      "outputs": [
        {
          "output_type": "stream",
          "name": "stdout",
          "text": [
            "Michael is 946080000 seconds old.\n"
          ]
        }
      ]
    },
    {
      "cell_type": "markdown",
      "metadata": {
        "id": "ad73d515"
      },
      "source": [
        "##### Without f-String"
      ],
      "id": "ad73d515"
    },
    {
      "cell_type": "code",
      "metadata": {
        "id": "5acd2adb",
        "outputId": "2245debc-a980-4859-a5bd-37666bb09083",
        "colab": {
          "base_uri": "https://localhost:8080/"
        }
      },
      "source": [
        "name = \"Michael\"\n",
        "age = 30\n",
        "print(name + \" is \" + str(age * 365 * 24 * 3600) + \" old.\")"
      ],
      "id": "5acd2adb",
      "execution_count": 54,
      "outputs": [
        {
          "output_type": "stream",
          "name": "stdout",
          "text": [
            "Michael is 946080000 old.\n"
          ]
        }
      ]
    },
    {
      "cell_type": "markdown",
      "metadata": {
        "id": "a3495925-ed5e-4ce5-97ec-5797c4bf9070"
      },
      "source": [
        "##### Drawback"
      ],
      "id": "a3495925-ed5e-4ce5-97ec-5797c4bf9070"
    },
    {
      "cell_type": "code",
      "metadata": {
        "id": "087157f0-8281-4954-ac47-7cbe9052c244",
        "outputId": "a89295b6-fa8c-4dad-de54-8a299dff012f",
        "colab": {
          "base_uri": "https://localhost:8080/",
          "height": 132
        }
      },
      "source": [
        "print(f\"Hello {'\\n'} World\")"
      ],
      "id": "087157f0-8281-4954-ac47-7cbe9052c244",
      "execution_count": 55,
      "outputs": [
        {
          "output_type": "error",
          "ename": "SyntaxError",
          "evalue": "ignored",
          "traceback": [
            "\u001b[0;36m  File \u001b[0;32m\"<ipython-input-55-9c4aa3202b4a>\"\u001b[0;36m, line \u001b[0;32m1\u001b[0m\n\u001b[0;31m    print(f\"Hello {'\\n'} World\")\u001b[0m\n\u001b[0m         ^\u001b[0m\n\u001b[0;31mSyntaxError\u001b[0m\u001b[0;31m:\u001b[0m f-string expression part cannot include a backslash\n"
          ]
        }
      ]
    },
    {
      "cell_type": "markdown",
      "metadata": {
        "id": "f55bd601"
      },
      "source": [
        "**Important:** Keep in mind that the string doesn't get updated if any of the values get changed."
      ],
      "id": "f55bd601"
    },
    {
      "cell_type": "code",
      "metadata": {
        "id": "afc54c39",
        "outputId": "08922455-0696-4f41-d54a-b60c465ef294",
        "colab": {
          "base_uri": "https://localhost:8080/"
        }
      },
      "source": [
        "age = 30\n",
        "text = f\"I am {age} years old.\"\n",
        "age = 40\n",
        "print(text)"
      ],
      "id": "afc54c39",
      "execution_count": 56,
      "outputs": [
        {
          "output_type": "stream",
          "name": "stdout",
          "text": [
            "I am 30 years old.\n"
          ]
        }
      ]
    },
    {
      "cell_type": "code",
      "metadata": {
        "id": "04f24dae",
        "outputId": "578c0257-0a13-4a76-ead9-cab36cd81603",
        "colab": {
          "base_uri": "https://localhost:8080/"
        }
      },
      "source": [
        "age = 30\n",
        "text = \"I am {} years old.\".format(age)\n",
        "age = 40\n",
        "print(text)"
      ],
      "id": "04f24dae",
      "execution_count": 57,
      "outputs": [
        {
          "output_type": "stream",
          "name": "stdout",
          "text": [
            "I am 30 years old.\n"
          ]
        }
      ]
    },
    {
      "cell_type": "markdown",
      "metadata": {
        "id": "41021b8d"
      },
      "source": [
        "#### Formatting Options\n",
        "| Format | Action |\n",
        "| :-- | :-- |\n",
        "| :< | Left align |\n",
        "| :> | Right align |\n",
        "| :^ | Center align |\n",
        "| := | Places sign at left most position |\n",
        "| :+ | Show if number is +ve or -ve |\n",
        "| :- | Show if number is -ve |\n",
        "| :(space) | Extra spacebefore +ve and '-' before -ve number |\n",
        "| :, | Use comma as thousand separator |\n",
        "| :_ | Use underscore as thousand separator |\n",
        "|:b | Binary format |\n",
        "| :c | Unicode format |\n",
        "| :d | Decimal format |\n",
        "| :e | Scientific Format |\n",
        "| :E | Scientific Format (uppercase) |\n",
        "| :f | Fixed point number format |\n",
        "| :F | Fixed point number format (uppercase) |\n",
        "| :g | General format |\n",
        "| :G | General format (uppercase) |\n",
        "| :o | Octal format |\n",
        "| :x | Hexadecimal format |\n",
        "| :X | Hexadecimal format (uppercase) |\n",
        "| :n | Number format |\n",
        "| :% | Percentage format |"
      ],
      "id": "41021b8d"
    },
    {
      "cell_type": "markdown",
      "metadata": {
        "id": "16818ca0-7b5a-4d6e-aef1-bda403e66a71"
      },
      "source": [
        "*Examples*"
      ],
      "id": "16818ca0-7b5a-4d6e-aef1-bda403e66a71"
    },
    {
      "cell_type": "code",
      "metadata": {
        "id": "73808a13",
        "outputId": "84a17f32-888a-4b8c-eb07-b23ac6882388",
        "colab": {
          "base_uri": "https://localhost:8080/"
        }
      },
      "source": [
        "print(f\"This item costs Rs. {99:.2f}\")\n",
        "# The value will be printed as a float with 2 places after decimal"
      ],
      "id": "73808a13",
      "execution_count": 58,
      "outputs": [
        {
          "output_type": "stream",
          "name": "stdout",
          "text": [
            "This item costs Rs. 99.00\n"
          ]
        }
      ]
    },
    {
      "cell_type": "code",
      "metadata": {
        "id": "bb10de0d-fd21-4f65-bab4-f24610db0801",
        "outputId": "4d418562-eaf0-4842-f3ca-362024497e94",
        "colab": {
          "base_uri": "https://localhost:8080/"
        }
      },
      "source": [
        "print(f\"{'1':>5}\")\n",
        "# :>5 -> The output will be right aligned with a length of 5 (thus 4 spaces)"
      ],
      "id": "bb10de0d-fd21-4f65-bab4-f24610db0801",
      "execution_count": 59,
      "outputs": [
        {
          "output_type": "stream",
          "name": "stdout",
          "text": [
            "    1\n"
          ]
        }
      ]
    },
    {
      "cell_type": "code",
      "metadata": {
        "id": "2be83743-c222-4a4f-9fda-9407d65222db",
        "outputId": "c8062573-3edd-4e60-dc77-6f1547a40867",
        "colab": {
          "base_uri": "https://localhost:8080/"
        }
      },
      "source": [
        "print(f\"{'Name':<10}{'Marks':<10}{'Grade':<10}\")\n",
        "\n",
        "print(f\"{'John':<10}{'10':<10}{'A':<10}\")\n",
        "print(f\"{'Dave':<10}{'20':<10}{'A':<10}\")\n",
        "print(f\"{'Dan':<10}{'30':<10}{'A+':<10}\")"
      ],
      "id": "2be83743-c222-4a4f-9fda-9407d65222db",
      "execution_count": 60,
      "outputs": [
        {
          "output_type": "stream",
          "name": "stdout",
          "text": [
            "Name      Marks     Grade     \n",
            "John      10        A         \n",
            "Dave      20        A         \n",
            "Dan       30        A+        \n"
          ]
        }
      ]
    },
    {
      "cell_type": "code",
      "metadata": {
        "id": "89d55809",
        "outputId": "f1344be5-ead9-4cc5-90a1-f68ee9af931c",
        "colab": {
          "base_uri": "https://localhost:8080/"
        }
      },
      "source": [
        "print(f\"A{'B':^5}C\")\n",
        "# 'B' will have a length of 5 and will be center aligned"
      ],
      "id": "89d55809",
      "execution_count": 61,
      "outputs": [
        {
          "output_type": "stream",
          "name": "stdout",
          "text": [
            "A  B  C\n"
          ]
        }
      ]
    },
    {
      "cell_type": "code",
      "metadata": {
        "id": "35bcc5d3-1d89-4772-9ed0-fc371a1e2f59",
        "outputId": "22fcaf4f-ac38-463c-9499-4d366bf949f4",
        "colab": {
          "base_uri": "https://localhost:8080/"
        }
      },
      "source": [
        "print(f\"{19:b}\") # 1001 is binary representation of 19"
      ],
      "id": "35bcc5d3-1d89-4772-9ed0-fc371a1e2f59",
      "execution_count": 62,
      "outputs": [
        {
          "output_type": "stream",
          "name": "stdout",
          "text": [
            "10011\n"
          ]
        }
      ]
    },
    {
      "cell_type": "code",
      "metadata": {
        "id": "e0c741c5-6216-46a8-8636-89111a3b2c0b",
        "outputId": "5237af8a-5445-4c80-e3aa-4d060ea77abf",
        "colab": {
          "base_uri": "https://localhost:8080/"
        }
      },
      "source": [
        "print(f\"{19:o}\") # 1001 is octal representation of 19"
      ],
      "id": "e0c741c5-6216-46a8-8636-89111a3b2c0b",
      "execution_count": 63,
      "outputs": [
        {
          "output_type": "stream",
          "name": "stdout",
          "text": [
            "23\n"
          ]
        }
      ]
    },
    {
      "cell_type": "code",
      "metadata": {
        "id": "4866ee36-ac76-4dee-9797-2ff5480e157f",
        "outputId": "2296d52a-a6b6-46f3-d2cd-1ee3c4a9286f",
        "colab": {
          "base_uri": "https://localhost:8080/"
        }
      },
      "source": [
        "print(f\"{29:x}\") # 1001 is hex representation of 29 (in lowercase)"
      ],
      "id": "4866ee36-ac76-4dee-9797-2ff5480e157f",
      "execution_count": 64,
      "outputs": [
        {
          "output_type": "stream",
          "name": "stdout",
          "text": [
            "1d\n"
          ]
        }
      ]
    },
    {
      "cell_type": "code",
      "metadata": {
        "id": "191a1b14-c2b0-40d9-a827-f7827766fab2",
        "outputId": "d662b9ad-57d2-4234-950d-dec7ae771a96",
        "colab": {
          "base_uri": "https://localhost:8080/"
        }
      },
      "source": [
        "print(f\"{29:X}\") # 1001 is hex representation of 29 (in uppercase)"
      ],
      "id": "191a1b14-c2b0-40d9-a827-f7827766fab2",
      "execution_count": 65,
      "outputs": [
        {
          "output_type": "stream",
          "name": "stdout",
          "text": [
            "1D\n"
          ]
        }
      ]
    },
    {
      "cell_type": "code",
      "metadata": {
        "id": "a914d3e8",
        "outputId": "95ad75bc-69cc-411d-c3c2-e81ff7908052",
        "colab": {
          "base_uri": "https://localhost:8080/"
        }
      },
      "source": [
        "print(f\"{2113123412:,}\")"
      ],
      "id": "a914d3e8",
      "execution_count": 66,
      "outputs": [
        {
          "output_type": "stream",
          "name": "stdout",
          "text": [
            "2,113,123,412\n"
          ]
        }
      ]
    },
    {
      "cell_type": "code",
      "metadata": {
        "id": "f8252f9d",
        "outputId": "86930289-4c08-4c5a-cd48-f23fb0d85bb0",
        "colab": {
          "base_uri": "https://localhost:8080/"
        }
      },
      "source": [
        "print(f\"{2113123412:_}\")"
      ],
      "id": "f8252f9d",
      "execution_count": 67,
      "outputs": [
        {
          "output_type": "stream",
          "name": "stdout",
          "text": [
            "2_113_123_412\n"
          ]
        }
      ]
    },
    {
      "cell_type": "code",
      "metadata": {
        "id": "50a4df7f",
        "outputId": "1ea0ccb3-3ca3-4e31-98af-f86f67b4332f",
        "colab": {
          "base_uri": "https://localhost:8080/"
        }
      },
      "source": [
        "print(f\"{'*' * 1:^9}\")\n",
        "print(f\"{'*' * 3:^9}\")\n",
        "print(f\"{'*' * 5:^9}\")\n",
        "print(f\"{'*' * 7:^9}\")\n",
        "print(f\"{'*' * 9:^9}\")"
      ],
      "id": "50a4df7f",
      "execution_count": 68,
      "outputs": [
        {
          "output_type": "stream",
          "name": "stdout",
          "text": [
            "    *    \n",
            "   ***   \n",
            "  *****  \n",
            " ******* \n",
            "*********\n"
          ]
        }
      ]
    },
    {
      "cell_type": "code",
      "metadata": {
        "id": "05b41e4f-a6b9-4c98-a90e-2df731f9e2e5",
        "outputId": "b6ec193e-e923-4302-f16d-723e8fd27cc5",
        "colab": {
          "base_uri": "https://localhost:8080/",
          "height": 0
        }
      },
      "source": [
        "s = \"*\" * 5\n",
        "f\"{s:^9}\""
      ],
      "id": "05b41e4f-a6b9-4c98-a90e-2df731f9e2e5",
      "execution_count": 69,
      "outputs": [
        {
          "output_type": "execute_result",
          "data": {
            "application/vnd.google.colaboratory.intrinsic+json": {
              "type": "string"
            },
            "text/plain": [
              "'  *****  '"
            ]
          },
          "metadata": {},
          "execution_count": 69
        }
      ]
    },
    {
      "cell_type": "markdown",
      "metadata": {
        "id": "5a89f026"
      },
      "source": [
        "After learning loop, you can use the following syntax."
      ],
      "id": "5a89f026"
    },
    {
      "cell_type": "code",
      "metadata": {
        "id": "f3f01aa4",
        "outputId": "d5426f7d-352a-4dab-8cf3-629ffcc63543",
        "colab": {
          "base_uri": "https://localhost:8080/"
        }
      },
      "source": [
        "for i in range(1, 10, 2): \n",
        "    print(f\"{'*' * i:^9}\")"
      ],
      "id": "f3f01aa4",
      "execution_count": 70,
      "outputs": [
        {
          "output_type": "stream",
          "name": "stdout",
          "text": [
            "    *    \n",
            "   ***   \n",
            "  *****  \n",
            " ******* \n",
            "*********\n"
          ]
        }
      ]
    },
    {
      "cell_type": "markdown",
      "metadata": {
        "id": "fece1bec-5bd0-43e7-85c7-7044c11ae848"
      },
      "source": [
        "A bit more advanced syntax."
      ],
      "id": "fece1bec-5bd0-43e7-85c7-7044c11ae848"
    },
    {
      "cell_type": "code",
      "metadata": {
        "id": "687f243f-9bb7-47bf-91f4-ac8375bdfafb",
        "outputId": "4194f2c6-0932-4de3-95b8-c51e925413a5",
        "colab": {
          "base_uri": "https://localhost:8080/"
        }
      },
      "source": [
        "print(\"\\n\".join([f\"{'*' * i:^9}\" for i in range(1, 10, 2)]))"
      ],
      "id": "687f243f-9bb7-47bf-91f4-ac8375bdfafb",
      "execution_count": 71,
      "outputs": [
        {
          "output_type": "stream",
          "name": "stdout",
          "text": [
            "    *    \n",
            "   ***   \n",
            "  *****  \n",
            " ******* \n",
            "*********\n"
          ]
        }
      ]
    },
    {
      "cell_type": "markdown",
      "metadata": {
        "id": "c5fc0cca"
      },
      "source": [
        "### Find in String\n",
        "You can search if a substring of any length is present in a string using the keyword `in`. The result is a boolean, which you will learn in the next file."
      ],
      "id": "c5fc0cca"
    },
    {
      "cell_type": "code",
      "metadata": {
        "id": "8d48eaa1",
        "outputId": "b886c9a3-140e-471f-98d9-9e03051b4f65",
        "colab": {
          "base_uri": "https://localhost:8080/"
        }
      },
      "source": [
        "\"name\" in \"My name is John\""
      ],
      "id": "8d48eaa1",
      "execution_count": 75,
      "outputs": [
        {
          "output_type": "execute_result",
          "data": {
            "text/plain": [
              "True"
            ]
          },
          "metadata": {},
          "execution_count": 75
        }
      ]
    },
    {
      "cell_type": "code",
      "metadata": {
        "id": "9c615803",
        "outputId": "6d92d2d2-6384-430e-f590-f32cbd8a6d08",
        "colab": {
          "base_uri": "https://localhost:8080/"
        }
      },
      "source": [
        "\"age\" in \"My name is John\""
      ],
      "id": "9c615803",
      "execution_count": 76,
      "outputs": [
        {
          "output_type": "execute_result",
          "data": {
            "text/plain": [
              "False"
            ]
          },
          "metadata": {},
          "execution_count": 76
        }
      ]
    },
    {
      "cell_type": "code",
      "metadata": {
        "id": "c2e9705c",
        "outputId": "545d7695-7278-4eb2-d6f7-40b958649424",
        "colab": {
          "base_uri": "https://localhost:8080/"
        }
      },
      "source": [
        "\"name\" in \"My Name is John\" # case sensitive"
      ],
      "id": "c2e9705c",
      "execution_count": 77,
      "outputs": [
        {
          "output_type": "execute_result",
          "data": {
            "text/plain": [
              "False"
            ]
          },
          "metadata": {},
          "execution_count": 77
        }
      ]
    },
    {
      "cell_type": "markdown",
      "metadata": {
        "id": "19299097"
      },
      "source": [
        "### String Constant\n",
        "The constants provided by the `string` library. We can import libraries as: `import library_name`."
      ],
      "id": "19299097"
    },
    {
      "cell_type": "code",
      "metadata": {
        "id": "ca925473"
      },
      "source": [
        "import string"
      ],
      "id": "ca925473",
      "execution_count": 78,
      "outputs": []
    },
    {
      "cell_type": "code",
      "metadata": {
        "id": "048d21bd",
        "outputId": "f174050e-5e96-42ad-b6b5-206c75e04bd3",
        "colab": {
          "base_uri": "https://localhost:8080/",
          "height": 0
        }
      },
      "source": [
        "string.ascii_letters # A constant variable in the string library"
      ],
      "id": "048d21bd",
      "execution_count": 79,
      "outputs": [
        {
          "output_type": "execute_result",
          "data": {
            "application/vnd.google.colaboratory.intrinsic+json": {
              "type": "string"
            },
            "text/plain": [
              "'abcdefghijklmnopqrstuvwxyzABCDEFGHIJKLMNOPQRSTUVWXYZ'"
            ]
          },
          "metadata": {},
          "execution_count": 79
        }
      ]
    },
    {
      "cell_type": "code",
      "metadata": {
        "id": "a36fa52c",
        "outputId": "d60e67c5-a1b7-458e-d476-a5c36abf66d8",
        "colab": {
          "base_uri": "https://localhost:8080/",
          "height": 0
        }
      },
      "source": [
        "string.ascii_lowercase"
      ],
      "id": "a36fa52c",
      "execution_count": 80,
      "outputs": [
        {
          "output_type": "execute_result",
          "data": {
            "application/vnd.google.colaboratory.intrinsic+json": {
              "type": "string"
            },
            "text/plain": [
              "'abcdefghijklmnopqrstuvwxyz'"
            ]
          },
          "metadata": {},
          "execution_count": 80
        }
      ]
    },
    {
      "cell_type": "code",
      "metadata": {
        "id": "b54273eb",
        "outputId": "1682ebcf-1ce7-4556-f6b3-9bc5acda044f",
        "colab": {
          "base_uri": "https://localhost:8080/",
          "height": 0
        }
      },
      "source": [
        "string.ascii_uppercase"
      ],
      "id": "b54273eb",
      "execution_count": 81,
      "outputs": [
        {
          "output_type": "execute_result",
          "data": {
            "application/vnd.google.colaboratory.intrinsic+json": {
              "type": "string"
            },
            "text/plain": [
              "'ABCDEFGHIJKLMNOPQRSTUVWXYZ'"
            ]
          },
          "metadata": {},
          "execution_count": 81
        }
      ]
    },
    {
      "cell_type": "code",
      "metadata": {
        "id": "5589ce4c",
        "outputId": "b932ec38-8bec-4b15-dc58-a9f6637d52e7",
        "colab": {
          "base_uri": "https://localhost:8080/",
          "height": 0
        }
      },
      "source": [
        "string.digits"
      ],
      "id": "5589ce4c",
      "execution_count": 82,
      "outputs": [
        {
          "output_type": "execute_result",
          "data": {
            "application/vnd.google.colaboratory.intrinsic+json": {
              "type": "string"
            },
            "text/plain": [
              "'0123456789'"
            ]
          },
          "metadata": {},
          "execution_count": 82
        }
      ]
    },
    {
      "cell_type": "code",
      "metadata": {
        "id": "d2ca6579",
        "outputId": "2ee8122d-9896-4278-c4ea-19348ec20b62",
        "colab": {
          "base_uri": "https://localhost:8080/",
          "height": 0
        }
      },
      "source": [
        "string.hexdigits"
      ],
      "id": "d2ca6579",
      "execution_count": 83,
      "outputs": [
        {
          "output_type": "execute_result",
          "data": {
            "application/vnd.google.colaboratory.intrinsic+json": {
              "type": "string"
            },
            "text/plain": [
              "'0123456789abcdefABCDEF'"
            ]
          },
          "metadata": {},
          "execution_count": 83
        }
      ]
    },
    {
      "cell_type": "code",
      "metadata": {
        "id": "a0b28db7",
        "outputId": "1d3b6eaa-70c6-418c-ee8e-3b61d8d6302a",
        "colab": {
          "base_uri": "https://localhost:8080/",
          "height": 0
        }
      },
      "source": [
        "string.octdigits"
      ],
      "id": "a0b28db7",
      "execution_count": 84,
      "outputs": [
        {
          "output_type": "execute_result",
          "data": {
            "application/vnd.google.colaboratory.intrinsic+json": {
              "type": "string"
            },
            "text/plain": [
              "'01234567'"
            ]
          },
          "metadata": {},
          "execution_count": 84
        }
      ]
    },
    {
      "cell_type": "code",
      "metadata": {
        "id": "031b3f58",
        "outputId": "b04a2d74-36ef-4be2-a4c4-f79f5595527f",
        "colab": {
          "base_uri": "https://localhost:8080/",
          "height": 0
        }
      },
      "source": [
        "string.punctuation"
      ],
      "id": "031b3f58",
      "execution_count": 85,
      "outputs": [
        {
          "output_type": "execute_result",
          "data": {
            "application/vnd.google.colaboratory.intrinsic+json": {
              "type": "string"
            },
            "text/plain": [
              "'!\"#$%&\\'()*+,-./:;<=>?@[\\\\]^_`{|}~'"
            ]
          },
          "metadata": {},
          "execution_count": 85
        }
      ]
    },
    {
      "cell_type": "code",
      "metadata": {
        "id": "1941a566",
        "outputId": "827e4b7d-1a07-4288-e946-16a39d4c7aec",
        "colab": {
          "base_uri": "https://localhost:8080/",
          "height": 0
        }
      },
      "source": [
        "string.printable"
      ],
      "id": "1941a566",
      "execution_count": 86,
      "outputs": [
        {
          "output_type": "execute_result",
          "data": {
            "application/vnd.google.colaboratory.intrinsic+json": {
              "type": "string"
            },
            "text/plain": [
              "'0123456789abcdefghijklmnopqrstuvwxyzABCDEFGHIJKLMNOPQRSTUVWXYZ!\"#$%&\\'()*+,-./:;<=>?@[\\\\]^_`{|}~ \\t\\n\\r\\x0b\\x0c'"
            ]
          },
          "metadata": {},
          "execution_count": 86
        }
      ]
    },
    {
      "cell_type": "code",
      "metadata": {
        "id": "53976a13",
        "outputId": "77ccd579-53d1-4cb6-8330-979777feeb33",
        "colab": {
          "base_uri": "https://localhost:8080/",
          "height": 0
        }
      },
      "source": [
        "string.whitespace"
      ],
      "id": "53976a13",
      "execution_count": 87,
      "outputs": [
        {
          "output_type": "execute_result",
          "data": {
            "application/vnd.google.colaboratory.intrinsic+json": {
              "type": "string"
            },
            "text/plain": [
              "' \\t\\n\\r\\x0b\\x0c'"
            ]
          },
          "metadata": {},
          "execution_count": 87
        }
      ]
    },
    {
      "cell_type": "markdown",
      "metadata": {
        "id": "f23e3756"
      },
      "source": [
        "### String Functions\n",
        "In Python, String has many useful in-built functions that can be called from a string object. In this section, some of the most useful functions will be discussed. You can check all the available functions and their usage in [this page](https://www.python-ds.com/python-3-string-methods).\n",
        "\n",
        "The string methods can be used as follows: *string_object.method_name()*  \n",
        "Examples:  \n",
        "`s = 'Hello'`  \n",
        "`hello.upper()`  \n",
        "or, `\"Hello\".upper()`  \n",
        "*Output will be `\"HELLO\"`*\n",
        "\n",
        "\n",
        "**Note: All string methods returns new values. They do not change the original string.**"
      ],
      "id": "f23e3756"
    },
    {
      "cell_type": "markdown",
      "metadata": {
        "id": "b3fb422e"
      },
      "source": [
        "**captialize():** Capitalize first letter of the string"
      ],
      "id": "b3fb422e"
    },
    {
      "cell_type": "code",
      "metadata": {
        "id": "4d1185c0",
        "outputId": "2fed53a5-47d2-4d0b-9000-c56a807fde88",
        "colab": {
          "base_uri": "https://localhost:8080/",
          "height": 36
        }
      },
      "source": [
        "\"my name is John. i am 30 years old\".capitalize()"
      ],
      "id": "4d1185c0",
      "execution_count": 88,
      "outputs": [
        {
          "output_type": "execute_result",
          "data": {
            "application/vnd.google.colaboratory.intrinsic+json": {
              "type": "string"
            },
            "text/plain": [
              "'My name is john. i am 30 years old'"
            ]
          },
          "metadata": {},
          "execution_count": 88
        }
      ]
    },
    {
      "cell_type": "markdown",
      "metadata": {
        "id": "80e141b6"
      },
      "source": [
        "**lower():** Convert string to lower case "
      ],
      "id": "80e141b6"
    },
    {
      "cell_type": "code",
      "metadata": {
        "id": "9c644ecb",
        "outputId": "32ff9ce1-e6f9-443d-ad8a-4e2c4ff6c174",
        "colab": {
          "base_uri": "https://localhost:8080/",
          "height": 36
        }
      },
      "source": [
        "\"Hello WORLD\".lower()"
      ],
      "id": "9c644ecb",
      "execution_count": 89,
      "outputs": [
        {
          "output_type": "execute_result",
          "data": {
            "application/vnd.google.colaboratory.intrinsic+json": {
              "type": "string"
            },
            "text/plain": [
              "'hello world'"
            ]
          },
          "metadata": {},
          "execution_count": 89
        }
      ]
    },
    {
      "cell_type": "markdown",
      "metadata": {
        "id": "5253b3fe-5aea-4f08-abef-e5d73b68dd47"
      },
      "source": [
        "**upper():** Convert string to upper case"
      ],
      "id": "5253b3fe-5aea-4f08-abef-e5d73b68dd47"
    },
    {
      "cell_type": "code",
      "metadata": {
        "id": "720851cb",
        "outputId": "0a760d13-913b-41d5-a6e9-6d897e1071d3",
        "colab": {
          "base_uri": "https://localhost:8080/",
          "height": 36
        }
      },
      "source": [
        "\"Hello WORLD\".upper()"
      ],
      "id": "720851cb",
      "execution_count": 90,
      "outputs": [
        {
          "output_type": "execute_result",
          "data": {
            "application/vnd.google.colaboratory.intrinsic+json": {
              "type": "string"
            },
            "text/plain": [
              "'HELLO WORLD'"
            ]
          },
          "metadata": {},
          "execution_count": 90
        }
      ]
    },
    {
      "cell_type": "markdown",
      "metadata": {
        "id": "e2bf218c"
      },
      "source": [
        "*These function don't change the original string. They return the modified string.*"
      ],
      "id": "e2bf218c"
    },
    {
      "cell_type": "code",
      "metadata": {
        "id": "82a17a67",
        "outputId": "96be7cdf-1d9e-4ea0-a6b5-030dfd93e025",
        "colab": {
          "base_uri": "https://localhost:8080/"
        }
      },
      "source": [
        "s = \"Hello World\"\n",
        "print(s.upper())\n",
        "print(s)"
      ],
      "id": "82a17a67",
      "execution_count": 91,
      "outputs": [
        {
          "output_type": "stream",
          "name": "stdout",
          "text": [
            "HELLO WORLD\n",
            "Hello World\n"
          ]
        }
      ]
    },
    {
      "cell_type": "markdown",
      "metadata": {
        "id": "abdf9659-8bb5-4cf4-aa80-ef305dd26d95"
      },
      "source": [
        "**title():** Capitalize first letter of each word"
      ],
      "id": "abdf9659-8bb5-4cf4-aa80-ef305dd26d95"
    },
    {
      "cell_type": "code",
      "metadata": {
        "id": "06d5bb7b-1ac3-47ab-bd0e-78e6dbfb4948",
        "outputId": "3bcc06da-db9a-45cd-e50a-4d6282f72273",
        "colab": {
          "base_uri": "https://localhost:8080/",
          "height": 36
        }
      },
      "source": [
        "\"my name is John\".title()"
      ],
      "id": "06d5bb7b-1ac3-47ab-bd0e-78e6dbfb4948",
      "execution_count": 92,
      "outputs": [
        {
          "output_type": "execute_result",
          "data": {
            "application/vnd.google.colaboratory.intrinsic+json": {
              "type": "string"
            },
            "text/plain": [
              "'My Name Is John'"
            ]
          },
          "metadata": {},
          "execution_count": 92
        }
      ]
    },
    {
      "cell_type": "markdown",
      "metadata": {
        "id": "55ca9825-44f5-45cd-ba3c-6abcbb30c0a2"
      },
      "source": [
        "**swapcase():** Toggle the case for each character (All these string methods can be chained. Eg. `str.upper().swapcase()`. Keep in mind that using `swapcase()` twice may not return the original string)"
      ],
      "id": "55ca9825-44f5-45cd-ba3c-6abcbb30c0a2"
    },
    {
      "cell_type": "code",
      "metadata": {
        "id": "6419a1e6-5485-4560-a095-13d2e865fb05",
        "outputId": "dd479f5e-4a2e-412c-c035-79275eca2b2f",
        "colab": {
          "base_uri": "https://localhost:8080/",
          "height": 36
        }
      },
      "source": [
        "\"Hello WORLD\".swapcase()"
      ],
      "id": "6419a1e6-5485-4560-a095-13d2e865fb05",
      "execution_count": 93,
      "outputs": [
        {
          "output_type": "execute_result",
          "data": {
            "application/vnd.google.colaboratory.intrinsic+json": {
              "type": "string"
            },
            "text/plain": [
              "'hELLO world'"
            ]
          },
          "metadata": {},
          "execution_count": 93
        }
      ]
    },
    {
      "cell_type": "markdown",
      "metadata": {
        "id": "1985a529"
      },
      "source": [
        "*Chaining functions*"
      ],
      "id": "1985a529"
    },
    {
      "cell_type": "code",
      "metadata": {
        "id": "d2694499",
        "outputId": "bc6b1f9e-b772-47ae-9e15-4eb1ca97efe8",
        "colab": {
          "base_uri": "https://localhost:8080/",
          "height": 36
        }
      },
      "source": [
        "\"my name is John. i am 30 years old\".title().swapcase()"
      ],
      "id": "d2694499",
      "execution_count": 94,
      "outputs": [
        {
          "output_type": "execute_result",
          "data": {
            "application/vnd.google.colaboratory.intrinsic+json": {
              "type": "string"
            },
            "text/plain": [
              "'mY nAME iS jOHN. i aM 30 yEARS oLD'"
            ]
          },
          "metadata": {},
          "execution_count": 94
        }
      ]
    },
    {
      "cell_type": "markdown",
      "metadata": {
        "id": "38ef2ae8-f5b8-44c7-8ea2-84423c8aac1b"
      },
      "source": [
        "**isalnum(), isalpha(), isdigit(), islower(), isupper(), etc.**"
      ],
      "id": "38ef2ae8-f5b8-44c7-8ea2-84423c8aac1b"
    },
    {
      "cell_type": "code",
      "metadata": {
        "id": "528aa033-4204-4e7d-ba78-334c20359710",
        "outputId": "1812b243-d477-42aa-d25b-7856eb3f2abf",
        "colab": {
          "base_uri": "https://localhost:8080/"
        }
      },
      "source": [
        "\"2367189\".isdigit()"
      ],
      "id": "528aa033-4204-4e7d-ba78-334c20359710",
      "execution_count": 95,
      "outputs": [
        {
          "output_type": "execute_result",
          "data": {
            "text/plain": [
              "True"
            ]
          },
          "metadata": {},
          "execution_count": 95
        }
      ]
    },
    {
      "cell_type": "code",
      "metadata": {
        "id": "37ed0204-0c2e-487e-a77e-1eb246b5bc06",
        "outputId": "55083626-4a17-4249-8c83-77a17d4d0f0d",
        "colab": {
          "base_uri": "https://localhost:8080/"
        }
      },
      "source": [
        "\"hello\".islower()"
      ],
      "id": "37ed0204-0c2e-487e-a77e-1eb246b5bc06",
      "execution_count": 96,
      "outputs": [
        {
          "output_type": "execute_result",
          "data": {
            "text/plain": [
              "True"
            ]
          },
          "metadata": {},
          "execution_count": 96
        }
      ]
    },
    {
      "cell_type": "code",
      "metadata": {
        "id": "bd1c0574-d812-419d-ab90-b1428098a44e",
        "outputId": "e543501b-bb2f-4470-e089-71db161f748b",
        "colab": {
          "base_uri": "https://localhost:8080/"
        }
      },
      "source": [
        "\"HELLO\".isupper()"
      ],
      "id": "bd1c0574-d812-419d-ab90-b1428098a44e",
      "execution_count": 97,
      "outputs": [
        {
          "output_type": "execute_result",
          "data": {
            "text/plain": [
              "True"
            ]
          },
          "metadata": {},
          "execution_count": 97
        }
      ]
    },
    {
      "cell_type": "code",
      "metadata": {
        "id": "e7d8bc57-7c8b-4136-8a0b-7ad755a75051",
        "outputId": "ed52ed8f-64be-4b9d-8d06-774f4e23b272",
        "colab": {
          "base_uri": "https://localhost:8080/"
        }
      },
      "source": [
        "\"Hello world\".istitle()"
      ],
      "id": "e7d8bc57-7c8b-4136-8a0b-7ad755a75051",
      "execution_count": 98,
      "outputs": [
        {
          "output_type": "execute_result",
          "data": {
            "text/plain": [
              "False"
            ]
          },
          "metadata": {},
          "execution_count": 98
        }
      ]
    },
    {
      "cell_type": "markdown",
      "metadata": {
        "id": "23ebd191-5712-4d1a-a224-c5862e5477e6"
      },
      "source": [
        "You can check out all the 'is' functions in the link given at the beginning of this section."
      ],
      "id": "23ebd191-5712-4d1a-a224-c5862e5477e6"
    },
    {
      "cell_type": "markdown",
      "metadata": {
        "id": "4ade688d"
      },
      "source": [
        "Check if valid identifier (name of variable)"
      ],
      "id": "4ade688d"
    },
    {
      "cell_type": "code",
      "metadata": {
        "id": "69e33059",
        "outputId": "463afeee-9e0e-4be2-cd7a-865cd1742917",
        "colab": {
          "base_uri": "https://localhost:8080/"
        }
      },
      "source": [
        "\"temp100\".isidentifier() "
      ],
      "id": "69e33059",
      "execution_count": 99,
      "outputs": [
        {
          "output_type": "execute_result",
          "data": {
            "text/plain": [
              "True"
            ]
          },
          "metadata": {},
          "execution_count": 99
        }
      ]
    },
    {
      "cell_type": "code",
      "metadata": {
        "id": "1d757e6f",
        "outputId": "fa058382-aa56-4300-ba12-1bc930b4dd03",
        "colab": {
          "base_uri": "https://localhost:8080/"
        }
      },
      "source": [
        "\"123abcd\".isidentifier()"
      ],
      "id": "1d757e6f",
      "execution_count": 100,
      "outputs": [
        {
          "output_type": "execute_result",
          "data": {
            "text/plain": [
              "False"
            ]
          },
          "metadata": {},
          "execution_count": 100
        }
      ]
    },
    {
      "cell_type": "markdown",
      "metadata": {
        "id": "03a45fa6-4219-4fa9-b1d3-abb552f1c6b7"
      },
      "source": [
        "**replace():** It returns a string where every occurrence of a given substring is replaced with another substring. The substrings can be of any length."
      ],
      "id": "03a45fa6-4219-4fa9-b1d3-abb552f1c6b7"
    },
    {
      "cell_type": "code",
      "metadata": {
        "id": "81e86312-b3a0-477f-ac15-0bdd5a576122",
        "outputId": "f62507bf-8c6e-4ca6-fb97-0eed8f0b8de5",
        "colab": {
          "base_uri": "https://localhost:8080/",
          "height": 36
        }
      },
      "source": [
        "\"Hello World\".replace(\"Hello\", \"Goodbye\")"
      ],
      "id": "81e86312-b3a0-477f-ac15-0bdd5a576122",
      "execution_count": 101,
      "outputs": [
        {
          "output_type": "execute_result",
          "data": {
            "application/vnd.google.colaboratory.intrinsic+json": {
              "type": "string"
            },
            "text/plain": [
              "'Goodbye World'"
            ]
          },
          "metadata": {},
          "execution_count": 101
        }
      ]
    },
    {
      "cell_type": "code",
      "metadata": {
        "id": "977e679e-94cc-45c5-9d57-497214841d47",
        "outputId": "72eb3d88-18e5-42ff-e2a5-99d3c69fe67a",
        "colab": {
          "base_uri": "https://localhost:8080/",
          "height": 36
        }
      },
      "source": [
        "\"Hello\".replace(\"l\", \"*\")"
      ],
      "id": "977e679e-94cc-45c5-9d57-497214841d47",
      "execution_count": 102,
      "outputs": [
        {
          "output_type": "execute_result",
          "data": {
            "application/vnd.google.colaboratory.intrinsic+json": {
              "type": "string"
            },
            "text/plain": [
              "'He**o'"
            ]
          },
          "metadata": {},
          "execution_count": 102
        }
      ]
    },
    {
      "cell_type": "code",
      "metadata": {
        "id": "14983a2d-10d7-4c66-8e1b-321da254e7ae",
        "outputId": "f110459a-8f18-4661-cd07-fe1a3ab19ee6",
        "colab": {
          "base_uri": "https://localhost:8080/"
        }
      },
      "source": [
        "s = \"Hello World\"\n",
        "print(s.replace('l', '*', 2)) # Maximum times to replace\n",
        "print(s) # You can see only 2 'l' were replaced with '*'"
      ],
      "id": "14983a2d-10d7-4c66-8e1b-321da254e7ae",
      "execution_count": 103,
      "outputs": [
        {
          "output_type": "stream",
          "name": "stdout",
          "text": [
            "He**o World\n",
            "Hello World\n"
          ]
        }
      ]
    },
    {
      "cell_type": "markdown",
      "metadata": {
        "id": "2b7bd470-8868-4eb5-a6fb-bc06b799f313"
      },
      "source": [
        "**find(), index():** Used to get index of a particular substring."
      ],
      "id": "2b7bd470-8868-4eb5-a6fb-bc06b799f313"
    },
    {
      "cell_type": "code",
      "metadata": {
        "id": "d9b680e5-b7f3-4eae-8882-14b1b685489d",
        "outputId": "df88ad18-0de1-4efb-8048-a188bc3be699",
        "colab": {
          "base_uri": "https://localhost:8080/"
        }
      },
      "source": [
        "\"Hello World\".index(\"W\")"
      ],
      "id": "d9b680e5-b7f3-4eae-8882-14b1b685489d",
      "execution_count": 104,
      "outputs": [
        {
          "output_type": "execute_result",
          "data": {
            "text/plain": [
              "6"
            ]
          },
          "metadata": {},
          "execution_count": 104
        }
      ]
    },
    {
      "cell_type": "code",
      "metadata": {
        "id": "3682b719-8dc9-4ae6-9a32-e292f697e8f5",
        "outputId": "82e77582-6f04-4cfc-c4c0-1120d903757d",
        "colab": {
          "base_uri": "https://localhost:8080/",
          "height": 167
        }
      },
      "source": [
        "\"Hello World\".index('w') # index() raises ValueError if not found"
      ],
      "id": "3682b719-8dc9-4ae6-9a32-e292f697e8f5",
      "execution_count": 106,
      "outputs": [
        {
          "output_type": "error",
          "ename": "ValueError",
          "evalue": "ignored",
          "traceback": [
            "\u001b[0;31m---------------------------------------------------------------------------\u001b[0m",
            "\u001b[0;31mValueError\u001b[0m                                Traceback (most recent call last)",
            "\u001b[0;32m<ipython-input-106-fd93d068fdcb>\u001b[0m in \u001b[0;36m<module>\u001b[0;34m()\u001b[0m\n\u001b[0;32m----> 1\u001b[0;31m \u001b[0;34m\"Hello World\"\u001b[0m\u001b[0;34m.\u001b[0m\u001b[0mindex\u001b[0m\u001b[0;34m(\u001b[0m\u001b[0;34m'w'\u001b[0m\u001b[0;34m)\u001b[0m \u001b[0;31m# index() raises ValueError if not found\u001b[0m\u001b[0;34m\u001b[0m\u001b[0;34m\u001b[0m\u001b[0m\n\u001b[0m",
            "\u001b[0;31mValueError\u001b[0m: substring not found"
          ]
        }
      ]
    },
    {
      "cell_type": "code",
      "metadata": {
        "id": "049089df-fcae-4ad5-94be-789d23b5b4b9",
        "outputId": "6e1728b5-114d-4c95-e20b-881b754f943a",
        "colab": {
          "base_uri": "https://localhost:8080/"
        }
      },
      "source": [
        "\"Hello World\".find(\"World\") # Substring can be of any length"
      ],
      "id": "049089df-fcae-4ad5-94be-789d23b5b4b9",
      "execution_count": 108,
      "outputs": [
        {
          "output_type": "execute_result",
          "data": {
            "text/plain": [
              "6"
            ]
          },
          "metadata": {},
          "execution_count": 108
        }
      ]
    },
    {
      "cell_type": "code",
      "metadata": {
        "id": "f3611010-5705-4e26-a7da-57df96721cfc",
        "outputId": "bdb237c5-0698-407a-f90c-c7455ed390b5",
        "colab": {
          "base_uri": "https://localhost:8080/"
        }
      },
      "source": [
        "\"Hello World\".find(\"w\") # find() returns -1 if not found"
      ],
      "id": "f3611010-5705-4e26-a7da-57df96721cfc",
      "execution_count": 109,
      "outputs": [
        {
          "output_type": "execute_result",
          "data": {
            "text/plain": [
              "-1"
            ]
          },
          "metadata": {},
          "execution_count": 109
        }
      ]
    },
    {
      "cell_type": "markdown",
      "metadata": {
        "id": "b6148148-0626-433d-9b3d-01ddaceb9787"
      },
      "source": [
        "**count():** Counts the no. of occurence of a substring in the string"
      ],
      "id": "b6148148-0626-433d-9b3d-01ddaceb9787"
    },
    {
      "cell_type": "code",
      "metadata": {
        "id": "a16f0d34-738b-44f2-bf95-ddd7f1b5a21c",
        "outputId": "87271dd2-6862-4329-b879-046d77132c7c",
        "colab": {
          "base_uri": "https://localhost:8080/"
        }
      },
      "source": [
        "\"Hello World\".count(\"l\")"
      ],
      "id": "a16f0d34-738b-44f2-bf95-ddd7f1b5a21c",
      "execution_count": 110,
      "outputs": [
        {
          "output_type": "execute_result",
          "data": {
            "text/plain": [
              "3"
            ]
          },
          "metadata": {},
          "execution_count": 110
        }
      ]
    },
    {
      "cell_type": "code",
      "metadata": {
        "id": "8c0ac177-6119-44d3-aea4-c6b856f734ac",
        "outputId": "3e4cd41d-d54a-42b0-a5a0-84db746fe4a2",
        "colab": {
          "base_uri": "https://localhost:8080/"
        }
      },
      "source": [
        "\"My name is John. My age is 30.\".count(\"is\")"
      ],
      "id": "8c0ac177-6119-44d3-aea4-c6b856f734ac",
      "execution_count": 111,
      "outputs": [
        {
          "output_type": "execute_result",
          "data": {
            "text/plain": [
              "2"
            ]
          },
          "metadata": {},
          "execution_count": 111
        }
      ]
    },
    {
      "cell_type": "markdown",
      "metadata": {
        "id": "f9569533-208b-4c6c-8cb5-59c5f7110574"
      },
      "source": [
        "**split():** The `split()` method breaks up a string at the specified separator and returns a list of strings. (You will learn about list in a later section) \n",
        "\n",
        "It has 2 optional parameters:\n",
        "* `separator`: It is a delimiter. The string splits at the specified separator. If the separator is not specified, any whitespace (space, newline etc.) string is a separator.\n",
        "* `maxsplit`: The maxsplit defines the maximum number of splits. The default value of maxsplit is -1, meaning, no limit on the number of splits.\n",
        "\n",
        "*It will be very useful later when taking multiple inputs from user*"
      ],
      "id": "f9569533-208b-4c6c-8cb5-59c5f7110574"
    },
    {
      "cell_type": "markdown",
      "metadata": {
        "id": "7c8e15e6"
      },
      "source": [
        "##### Splitting string at whitespaces (Check string.whitespace)"
      ],
      "id": "7c8e15e6"
    },
    {
      "cell_type": "code",
      "metadata": {
        "id": "4727b25c",
        "outputId": "1fd245ff-f2e7-484e-edf8-bfb657012021",
        "colab": {
          "base_uri": "https://localhost:8080/"
        }
      },
      "source": [
        "\"My name is John.\\nMy age is 30.\".split()"
      ],
      "id": "4727b25c",
      "execution_count": 112,
      "outputs": [
        {
          "output_type": "execute_result",
          "data": {
            "text/plain": [
              "['My', 'name', 'is', 'John.', 'My', 'age', 'is', '30.']"
            ]
          },
          "metadata": {},
          "execution_count": 112
        }
      ]
    },
    {
      "cell_type": "markdown",
      "metadata": {
        "id": "8d771ecd"
      },
      "source": [
        "##### Splitting string at newline"
      ],
      "id": "8d771ecd"
    },
    {
      "cell_type": "code",
      "metadata": {
        "id": "10d4fbe5",
        "outputId": "e323beee-534c-495b-d4a3-61f3b1238d82",
        "colab": {
          "base_uri": "https://localhost:8080/"
        }
      },
      "source": [
        "\"My name is John.\\nMy age is 30.\".split('\\n')"
      ],
      "id": "10d4fbe5",
      "execution_count": 113,
      "outputs": [
        {
          "output_type": "execute_result",
          "data": {
            "text/plain": [
              "['My name is John.', 'My age is 30.']"
            ]
          },
          "metadata": {},
          "execution_count": 113
        }
      ]
    },
    {
      "cell_type": "markdown",
      "metadata": {
        "id": "ae4dcefd"
      },
      "source": [
        "##### In the following code we are splitting the string at 'is'. Whatever is used for splitting is not included in result"
      ],
      "id": "ae4dcefd"
    },
    {
      "cell_type": "code",
      "metadata": {
        "id": "6f133663",
        "outputId": "4b80e681-2d2c-4515-9aeb-e998437e65c6",
        "colab": {
          "base_uri": "https://localhost:8080/"
        }
      },
      "source": [
        "\"My name is John.\\nMy age is 30.\".split('is')"
      ],
      "id": "6f133663",
      "execution_count": 114,
      "outputs": [
        {
          "output_type": "execute_result",
          "data": {
            "text/plain": [
              "['My name ', ' John.\\nMy age ', ' 30.']"
            ]
          },
          "metadata": {},
          "execution_count": 114
        }
      ]
    },
    {
      "cell_type": "markdown",
      "metadata": {
        "id": "7ab250ef"
      },
      "source": [
        "##### In the following code we split 3 elements and then rest of the string is the third element."
      ],
      "id": "7ab250ef"
    },
    {
      "cell_type": "code",
      "metadata": {
        "id": "07731adb",
        "outputId": "7be9842f-a363-4729-a4e1-e36054bd1243",
        "colab": {
          "base_uri": "https://localhost:8080/"
        }
      },
      "source": [
        "\"1 2 3 4 5 6\".split(maxsplit=3)"
      ],
      "id": "07731adb",
      "execution_count": 115,
      "outputs": [
        {
          "output_type": "execute_result",
          "data": {
            "text/plain": [
              "['1', '2', '3', '4 5 6']"
            ]
          },
          "metadata": {},
          "execution_count": 115
        }
      ]
    },
    {
      "cell_type": "markdown",
      "metadata": {
        "id": "24abb396-0e41-4867-adb6-6b880e2fb4a6"
      },
      "source": [
        "**join():** The `join()` methods is the opposite of the `split()` method. It is used to join a list or tuple of strings into a single string using a given separator."
      ],
      "id": "24abb396-0e41-4867-adb6-6b880e2fb4a6"
    },
    {
      "cell_type": "code",
      "metadata": {
        "id": "91ac45be-981b-47ff-a020-72b492099855",
        "outputId": "72f46df0-743b-478b-e67f-6c79761daae6",
        "colab": {
          "base_uri": "https://localhost:8080/",
          "height": 36
        }
      },
      "source": [
        "\" \".join(['My', 'name', 'is', 'John']) # Using space as separator"
      ],
      "id": "91ac45be-981b-47ff-a020-72b492099855",
      "execution_count": 116,
      "outputs": [
        {
          "output_type": "execute_result",
          "data": {
            "application/vnd.google.colaboratory.intrinsic+json": {
              "type": "string"
            },
            "text/plain": [
              "'My name is John'"
            ]
          },
          "metadata": {},
          "execution_count": 116
        }
      ]
    },
    {
      "cell_type": "code",
      "metadata": {
        "id": "ff28ce1d-ba43-4476-93eb-df8838acb609",
        "outputId": "caee857f-6e23-43f7-db47-4693b044cd1f",
        "colab": {
          "base_uri": "https://localhost:8080/",
          "height": 36
        }
      },
      "source": [
        "\"#\".join(['A', 'B', 'C', 'D']) # Using"
      ],
      "id": "ff28ce1d-ba43-4476-93eb-df8838acb609",
      "execution_count": 117,
      "outputs": [
        {
          "output_type": "execute_result",
          "data": {
            "application/vnd.google.colaboratory.intrinsic+json": {
              "type": "string"
            },
            "text/plain": [
              "'A#B#C#D'"
            ]
          },
          "metadata": {},
          "execution_count": 117
        }
      ]
    },
    {
      "cell_type": "code",
      "metadata": {
        "id": "794fc5fb-e712-45cc-8139-869dd28d824b",
        "outputId": "7845d036-2b6b-4226-af81-69153751fff1",
        "colab": {
          "base_uri": "https://localhost:8080/",
          "height": 36
        }
      },
      "source": [
        "'is'.join(['My name ', ' John.\\nMy age ', ' 30.'])"
      ],
      "id": "794fc5fb-e712-45cc-8139-869dd28d824b",
      "execution_count": 118,
      "outputs": [
        {
          "output_type": "execute_result",
          "data": {
            "application/vnd.google.colaboratory.intrinsic+json": {
              "type": "string"
            },
            "text/plain": [
              "'My name is John.\\nMy age is 30.'"
            ]
          },
          "metadata": {},
          "execution_count": 118
        }
      ]
    },
    {
      "cell_type": "markdown",
      "metadata": {
        "id": "9c516aef-c0b3-4dce-8ab8-15fbb1c2a0dc"
      },
      "source": [
        "**There are many more string functions. Even the functions shown above can make use of optional parameters. You can check them out from the external link given or from the Python documentation link.**"
      ],
      "id": "9c516aef-c0b3-4dce-8ab8-15fbb1c2a0dc"
    }
  ]
}